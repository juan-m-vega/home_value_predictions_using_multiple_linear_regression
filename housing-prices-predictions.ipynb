{
 "cells": [
  {
   "cell_type": "markdown",
   "metadata": {},
   "source": [
    "![](https://miro.medium.com/max/4800/1*sMTSm5JLTD9fD2HO1vdCeQ.jpeg)\n",
    "[Image Source](https://towardsdatascience.com/wrangling-through-dataland-modeling-house-prices-in-ames-iowa-75b9b4086c96): *Cracking the Ames Housing Dataset with Linear Regression*  by Alvin T. Tan."
   ]
  },
  {
   "cell_type": "markdown",
   "metadata": {},
   "source": [
    "# <center> Predicting Housing Prices in Ames, Iowa, using Multiple Linear Regression"
   ]
  },
  {
   "cell_type": "markdown",
   "metadata": {},
   "source": [
    "### Table of Contents:\n",
    "- [Background](#Background:)\n",
    "- [Problem Statement](#Problem-Statement:)\n",
    "- [Data Sources](#Data-Sources:)\n",
    "- [Methodology](#Methodology:)\n",
    "- [Data Cleaning and Exploratory Data Analysis](#Data-Cleaning-and-Exploratory-Data-Analysis:)\n",
    "- [Preprocessing and Modeling](#Pre-processing-and-Modeling:)\n",
    "- [Model Evaluation](#Model-Evaluation:)\n",
    "- [Conclusions and Recommendations](#Conclusions-and-Recommendations:)"
   ]
  },
  {
   "cell_type": "markdown",
   "metadata": {},
   "source": [
    "# Background:\n",
    "\n",
    "Commercial real estate search companies such as [Zillow](https://www.zillow.com/) and [RedFin](https://www.redfin.com/) provide customers the ability to find the housing options that match their needs. For instance, Zillow allows its subscribers to find key information on several properties in a geographic area including `final sales price`, `square footage`, `number of bedrooms`, `number of bathrooms`, and `the property's address`. Zillow uses individual home features to calculate its proprietary [Zestimate](https://www.zillow.com/z/zestimate/) or its estimate of a house's market value."
   ]
  },
  {
   "cell_type": "markdown",
   "metadata": {},
   "source": [
    "# Problem Statement:\n",
    "\n",
    "\n",
    "An emerging competitor to Zillow and RedFin in the real estate search engine industry would like to identify differentiating factors from these large competitors and has contracted data analytics services to:\n",
    "\n",
    "* Identify home features that are relevant in predicting home sale prices that Zillow and RedFin do not currently display.\n",
    "* Create a linear regression model that will predict home sale prices based on observable features for houses not yet listed in these websites.\n",
    "\n",
    "This competitor expects to access home features data that is not yet available to the competition. These objectives will help this company make the choice of whether to invest in modifying its current home search profiles with additional features and whether it should invest in purchasing the additional data to offer more search options to its current and future subscribers. The results of this analysis will be presented to the Chief Executive and Chief Information Officers."
   ]
  },
  {
   "cell_type": "markdown",
   "metadata": {},
   "source": [
    "A typical Zillow profile such as the one below includes features such as:\n",
    "* Sale Price\n",
    "* Number of bedrooms\n",
    "* Number of bathrooms\n",
    "* Total square footage\n",
    "* Date of sale\n",
    "* Zestimate\n",
    "* Estimated refinance payment\n",
    "* Home type\n",
    "* Year built\n",
    "* Type of cooling system\n",
    "* Number of parking spaces\n",
    "* Lot size in square feet\n",
    "* Type of heating system\n",
    "* Basement area\n",
    "* Type of basement (i.e., partially finished, rear entrance)\n",
    "* Flooring type\n",
    "* Appliances available\n",
    "* Total interior livable area\n",
    "* Finished area above and below ground\n",
    "* Total number of fireplaces\n",
    "* Number of levels\n",
    "* Fence type\n",
    "* Architectural style\n",
    "* Construction materials\n",
    "* Property condition\n",
    "* Whether the property is a new construction\n",
    "* Utilities/ Green energy information\n",
    "* Price history\n",
    "* The same features for neighboring houses"
   ]
  },
  {
   "cell_type": "markdown",
   "metadata": {},
   "source": [
    "<div>\n",
    "<img src=\"https://wp-tid.zillowstatic.com/8/real-estate-facebook-ad-example-carousel-dd4184-941x1024.png\" alt=\"drawing\" style=\"width:600px;\"/>"
   ]
  },
  {
   "cell_type": "markdown",
   "metadata": {},
   "source": [
    "# Data Sources:\n",
    "\n",
    "Using data from the city of Ames', Iowa, Assessor's Office for individual residential properties sold between 2006 to 2010, additional features that have an important relationship to sales price and that are not yet listed in Zillow profiles will be investigated. These data will also be used to build a machine learning model to predict sales price based on observable features. The dataset consists of 2,929 observations with 82 home features. The data set includes 23 nominal features, 23 ordinal features, 14 discrete features, and 20 continuous features and two identifying variables. A data dictionary can be found in [this](http://jse.amstat.org/v19n3/decock/DataDocumentation.txt) document."
   ]
  },
  {
   "cell_type": "markdown",
   "metadata": {},
   "source": [
    "# Methodology:\n",
    "\n",
    "To analyze the data and achieve the project goals, the following steps will be used:\n",
    "\n",
    "### Identifying features that the company should consider for displaying on its home profiles:\n",
    "1. Ingest and clean the data set.\n",
    "2. Explore the relationship of all features in the data set to the target feature, or sale price.\n",
    "3. Use a multiple linear regression model and data visualization to determine which features `MyHomeSearch` should consider for presentation on its website.\n",
    "4. Narrow down a list of features for inclusion in a machine learning model to predict sale price.\n",
    "\n",
    "### Developing a machine learning model to predict sale price:\n",
    "1. Run a linear regression model on a train, test split of the train data set.\n",
    "2. Evaluate the performance of the model using metrics such as r-squared and mean squared error. \n",
    "3. Evaluate the performance against the null model.\n",
    "4. Implement Ridge and Lasso regularization applying grid search to find the optimal hyperparameters that will produce the best model performance on the testing data set.\n",
    "4. Generate predictions from the optimal model selected."
   ]
  },
  {
   "cell_type": "markdown",
   "metadata": {},
   "source": [
    "# Data Cleaning and Exploratory Data Analysis"
   ]
  },
  {
   "cell_type": "markdown",
   "metadata": {},
   "source": [
    "## Data Cleaning"
   ]
  },
  {
   "cell_type": "markdown",
   "metadata": {},
   "source": [
    "#### Import required libraries."
   ]
  },
  {
   "cell_type": "code",
   "execution_count": 1,
   "metadata": {
    "ExecuteTime": {
     "end_time": "2022-05-13T04:33:16.187036Z",
     "start_time": "2022-05-13T04:33:13.351367Z"
    },
    "scrolled": true
   },
   "outputs": [],
   "source": [
    "import pandas as pd\n",
    "import numpy as np\n",
    "import matplotlib.pyplot as plt\n",
    "import seaborn as sns\n",
    "import os\n",
    "import statsmodels.api as sm\n",
    "import sklearn.metrics as metrics\n",
    "\n",
    "from sklearn.preprocessing import StandardScaler, PolynomialFeatures\n",
    "from sklearn.linear_model import LinearRegression, Ridge, RidgeCV, Lasso, LassoCV\n",
    "from sklearn.model_selection import train_test_split, cross_val_score\n",
    "from sklearn.metrics import mean_squared_error, r2_score\n",
    "from sklearn.impute import SimpleImputer"
   ]
  },
  {
   "cell_type": "code",
   "execution_count": 2,
   "metadata": {
    "ExecuteTime": {
     "end_time": "2022-05-13T04:33:16.468129Z",
     "start_time": "2022-05-13T04:33:16.190393Z"
    }
   },
   "outputs": [],
   "source": [
    "train = pd.read_csv('https://real-estate-data-ames-iowa.s3.amazonaws.com/train.csv')\n",
    "test = pd.read_csv('https://real-estate-data-ames-iowa.s3.amazonaws.com/test.csv')"
   ]
  },
  {
   "cell_type": "code",
   "execution_count": 3,
   "metadata": {
    "ExecuteTime": {
     "end_time": "2022-05-13T04:33:16.496629Z",
     "start_time": "2022-05-13T04:33:16.472211Z"
    }
   },
   "outputs": [
    {
     "data": {
      "text/html": [
       "<div>\n",
       "<style scoped>\n",
       "    .dataframe tbody tr th:only-of-type {\n",
       "        vertical-align: middle;\n",
       "    }\n",
       "\n",
       "    .dataframe tbody tr th {\n",
       "        vertical-align: top;\n",
       "    }\n",
       "\n",
       "    .dataframe thead th {\n",
       "        text-align: right;\n",
       "    }\n",
       "</style>\n",
       "<table border=\"1\" class=\"dataframe\">\n",
       "  <thead>\n",
       "    <tr style=\"text-align: right;\">\n",
       "      <th></th>\n",
       "      <th>Id</th>\n",
       "      <th>PID</th>\n",
       "      <th>MS SubClass</th>\n",
       "      <th>MS Zoning</th>\n",
       "      <th>Lot Frontage</th>\n",
       "      <th>Lot Area</th>\n",
       "      <th>Street</th>\n",
       "      <th>Alley</th>\n",
       "      <th>Lot Shape</th>\n",
       "      <th>Land Contour</th>\n",
       "      <th>...</th>\n",
       "      <th>Screen Porch</th>\n",
       "      <th>Pool Area</th>\n",
       "      <th>Pool QC</th>\n",
       "      <th>Fence</th>\n",
       "      <th>Misc Feature</th>\n",
       "      <th>Misc Val</th>\n",
       "      <th>Mo Sold</th>\n",
       "      <th>Yr Sold</th>\n",
       "      <th>Sale Type</th>\n",
       "      <th>SalePrice</th>\n",
       "    </tr>\n",
       "  </thead>\n",
       "  <tbody>\n",
       "    <tr>\n",
       "      <th>0</th>\n",
       "      <td>109</td>\n",
       "      <td>533352170</td>\n",
       "      <td>60</td>\n",
       "      <td>RL</td>\n",
       "      <td>NaN</td>\n",
       "      <td>13517</td>\n",
       "      <td>Pave</td>\n",
       "      <td>NaN</td>\n",
       "      <td>IR1</td>\n",
       "      <td>Lvl</td>\n",
       "      <td>...</td>\n",
       "      <td>0</td>\n",
       "      <td>0</td>\n",
       "      <td>NaN</td>\n",
       "      <td>NaN</td>\n",
       "      <td>NaN</td>\n",
       "      <td>0</td>\n",
       "      <td>3</td>\n",
       "      <td>2010</td>\n",
       "      <td>WD</td>\n",
       "      <td>130500</td>\n",
       "    </tr>\n",
       "    <tr>\n",
       "      <th>1</th>\n",
       "      <td>544</td>\n",
       "      <td>531379050</td>\n",
       "      <td>60</td>\n",
       "      <td>RL</td>\n",
       "      <td>43.0</td>\n",
       "      <td>11492</td>\n",
       "      <td>Pave</td>\n",
       "      <td>NaN</td>\n",
       "      <td>IR1</td>\n",
       "      <td>Lvl</td>\n",
       "      <td>...</td>\n",
       "      <td>0</td>\n",
       "      <td>0</td>\n",
       "      <td>NaN</td>\n",
       "      <td>NaN</td>\n",
       "      <td>NaN</td>\n",
       "      <td>0</td>\n",
       "      <td>4</td>\n",
       "      <td>2009</td>\n",
       "      <td>WD</td>\n",
       "      <td>220000</td>\n",
       "    </tr>\n",
       "    <tr>\n",
       "      <th>2</th>\n",
       "      <td>153</td>\n",
       "      <td>535304180</td>\n",
       "      <td>20</td>\n",
       "      <td>RL</td>\n",
       "      <td>68.0</td>\n",
       "      <td>7922</td>\n",
       "      <td>Pave</td>\n",
       "      <td>NaN</td>\n",
       "      <td>Reg</td>\n",
       "      <td>Lvl</td>\n",
       "      <td>...</td>\n",
       "      <td>0</td>\n",
       "      <td>0</td>\n",
       "      <td>NaN</td>\n",
       "      <td>NaN</td>\n",
       "      <td>NaN</td>\n",
       "      <td>0</td>\n",
       "      <td>1</td>\n",
       "      <td>2010</td>\n",
       "      <td>WD</td>\n",
       "      <td>109000</td>\n",
       "    </tr>\n",
       "    <tr>\n",
       "      <th>3</th>\n",
       "      <td>318</td>\n",
       "      <td>916386060</td>\n",
       "      <td>60</td>\n",
       "      <td>RL</td>\n",
       "      <td>73.0</td>\n",
       "      <td>9802</td>\n",
       "      <td>Pave</td>\n",
       "      <td>NaN</td>\n",
       "      <td>Reg</td>\n",
       "      <td>Lvl</td>\n",
       "      <td>...</td>\n",
       "      <td>0</td>\n",
       "      <td>0</td>\n",
       "      <td>NaN</td>\n",
       "      <td>NaN</td>\n",
       "      <td>NaN</td>\n",
       "      <td>0</td>\n",
       "      <td>4</td>\n",
       "      <td>2010</td>\n",
       "      <td>WD</td>\n",
       "      <td>174000</td>\n",
       "    </tr>\n",
       "    <tr>\n",
       "      <th>4</th>\n",
       "      <td>255</td>\n",
       "      <td>906425045</td>\n",
       "      <td>50</td>\n",
       "      <td>RL</td>\n",
       "      <td>82.0</td>\n",
       "      <td>14235</td>\n",
       "      <td>Pave</td>\n",
       "      <td>NaN</td>\n",
       "      <td>IR1</td>\n",
       "      <td>Lvl</td>\n",
       "      <td>...</td>\n",
       "      <td>0</td>\n",
       "      <td>0</td>\n",
       "      <td>NaN</td>\n",
       "      <td>NaN</td>\n",
       "      <td>NaN</td>\n",
       "      <td>0</td>\n",
       "      <td>3</td>\n",
       "      <td>2010</td>\n",
       "      <td>WD</td>\n",
       "      <td>138500</td>\n",
       "    </tr>\n",
       "  </tbody>\n",
       "</table>\n",
       "<p>5 rows × 81 columns</p>\n",
       "</div>"
      ],
      "text/plain": [
       "    Id        PID  MS SubClass MS Zoning  Lot Frontage  Lot Area Street Alley  \\\n",
       "0  109  533352170           60        RL           NaN     13517   Pave   NaN   \n",
       "1  544  531379050           60        RL          43.0     11492   Pave   NaN   \n",
       "2  153  535304180           20        RL          68.0      7922   Pave   NaN   \n",
       "3  318  916386060           60        RL          73.0      9802   Pave   NaN   \n",
       "4  255  906425045           50        RL          82.0     14235   Pave   NaN   \n",
       "\n",
       "  Lot Shape Land Contour  ... Screen Porch Pool Area Pool QC Fence  \\\n",
       "0       IR1          Lvl  ...            0         0     NaN   NaN   \n",
       "1       IR1          Lvl  ...            0         0     NaN   NaN   \n",
       "2       Reg          Lvl  ...            0         0     NaN   NaN   \n",
       "3       Reg          Lvl  ...            0         0     NaN   NaN   \n",
       "4       IR1          Lvl  ...            0         0     NaN   NaN   \n",
       "\n",
       "  Misc Feature Misc Val Mo Sold Yr Sold  Sale Type  SalePrice  \n",
       "0          NaN        0       3    2010        WD      130500  \n",
       "1          NaN        0       4    2009        WD      220000  \n",
       "2          NaN        0       1    2010        WD      109000  \n",
       "3          NaN        0       4    2010        WD      174000  \n",
       "4          NaN        0       3    2010        WD      138500  \n",
       "\n",
       "[5 rows x 81 columns]"
      ]
     },
     "execution_count": 3,
     "metadata": {},
     "output_type": "execute_result"
    }
   ],
   "source": [
    "train.head()"
   ]
  },
  {
   "cell_type": "markdown",
   "metadata": {},
   "source": [
    "#### Check the dimensions of the test and train data sets."
   ]
  },
  {
   "cell_type": "code",
   "execution_count": 4,
   "metadata": {
    "ExecuteTime": {
     "end_time": "2022-05-13T04:33:16.508630Z",
     "start_time": "2022-05-13T04:33:16.499921Z"
    },
    "scrolled": true
   },
   "outputs": [
    {
     "data": {
      "text/plain": [
       "((2051, 81), (878, 80))"
      ]
     },
     "execution_count": 4,
     "metadata": {},
     "output_type": "execute_result"
    }
   ],
   "source": [
    "train.shape, test.shape"
   ]
  },
  {
   "cell_type": "markdown",
   "metadata": {},
   "source": [
    "30% (878/2929) of the data set is reserved for the test set."
   ]
  },
  {
   "cell_type": "markdown",
   "metadata": {},
   "source": [
    "Clean up column names by converting them to lower and snake case."
   ]
  },
  {
   "cell_type": "code",
   "execution_count": 5,
   "metadata": {
    "ExecuteTime": {
     "end_time": "2022-05-13T04:33:16.517060Z",
     "start_time": "2022-05-13T04:33:16.511806Z"
    }
   },
   "outputs": [],
   "source": [
    "train.columns = train.columns.str.lower()\n",
    "train.columns = [column.replace(\" \", \"_\") for column in train.columns]"
   ]
  },
  {
   "cell_type": "code",
   "execution_count": 6,
   "metadata": {
    "ExecuteTime": {
     "end_time": "2022-05-13T04:33:16.528756Z",
     "start_time": "2022-05-13T04:33:16.521867Z"
    }
   },
   "outputs": [],
   "source": [
    "test.columns = test.columns.str.lower()\n",
    "test.columns = [column.replace(\" \", \"_\") for column in test.columns]"
   ]
  },
  {
   "cell_type": "markdown",
   "metadata": {},
   "source": [
    "### Check for missing values."
   ]
  },
  {
   "cell_type": "code",
   "execution_count": 7,
   "metadata": {
    "ExecuteTime": {
     "end_time": "2022-05-13T04:33:16.555203Z",
     "start_time": "2022-05-13T04:33:16.531196Z"
    }
   },
   "outputs": [
    {
     "data": {
      "text/plain": [
       "pool_qc           2042\n",
       "misc_feature      1986\n",
       "alley             1911\n",
       "fence             1651\n",
       "fireplace_qu      1000\n",
       "lot_frontage       330\n",
       "garage_yr_blt      114\n",
       "garage_cond        114\n",
       "garage_qual        114\n",
       "garage_finish      114\n",
       "garage_type        113\n",
       "bsmt_exposure       58\n",
       "bsmtfin_type_2      56\n",
       "bsmt_cond           55\n",
       "bsmt_qual           55\n",
       "bsmtfin_type_1      55\n",
       "mas_vnr_area        22\n",
       "mas_vnr_type        22\n",
       "bsmt_half_bath       2\n",
       "bsmt_full_bath       2\n",
       "total_bsmt_sf        1\n",
       "bsmt_unf_sf          1\n",
       "bsmtfin_sf_2         1\n",
       "garage_cars          1\n",
       "garage_area          1\n",
       "bsmtfin_sf_1         1\n",
       "dtype: int64"
      ]
     },
     "execution_count": 7,
     "metadata": {},
     "output_type": "execute_result"
    }
   ],
   "source": [
    "train.isnull().sum()[train.isnull().sum()>0].sort_values(ascending=False)"
   ]
  },
  {
   "cell_type": "markdown",
   "metadata": {},
   "source": [
    "Features with a high percentage of observations missing such as `pool_qc`, `misc_feature`, and `alley` can be dropped from the data set as they do not add a significant amount of information to the model. At least 80% (1,651/2051) of these observations are missing from the train data set."
   ]
  },
  {
   "cell_type": "code",
   "execution_count": 8,
   "metadata": {
    "ExecuteTime": {
     "end_time": "2022-05-13T04:33:16.568527Z",
     "start_time": "2022-05-13T04:33:16.559140Z"
    }
   },
   "outputs": [],
   "source": [
    "train = train.drop(columns=['pool_qc','misc_feature','alley','fence'])\n",
    "test = test.drop(columns=['pool_qc','misc_feature','alley','fence'])"
   ]
  },
  {
   "cell_type": "markdown",
   "metadata": {},
   "source": [
    "Examine the patterns of missingness in the data."
   ]
  },
  {
   "cell_type": "markdown",
   "metadata": {},
   "source": [
    "Most observations have one or no missing values at all. The minority of observations in the train data set have missing values in between 2 to 12 features. Therefore, none of the observations will be dropped based on the number of missing values."
   ]
  },
  {
   "cell_type": "code",
   "execution_count": 9,
   "metadata": {
    "ExecuteTime": {
     "end_time": "2022-05-13T04:33:16.589043Z",
     "start_time": "2022-05-13T04:33:16.576925Z"
    }
   },
   "outputs": [
    {
     "data": {
      "text/plain": [
       "1     950\n",
       "0     812\n",
       "6     123\n",
       "2     116\n",
       "5      14\n",
       "3      13\n",
       "7      12\n",
       "11      7\n",
       "12      2\n",
       "10      1\n",
       "8       1\n",
       "dtype: int64"
      ]
     },
     "execution_count": 9,
     "metadata": {},
     "output_type": "execute_result"
    }
   ],
   "source": [
    "train.isnull().sum(axis=1).value_counts().sort_values(ascending=False)"
   ]
  },
  {
   "cell_type": "markdown",
   "metadata": {},
   "source": [
    "Some of the nominal and ordinal features in the data set can be represented as binary variables and avoid having missing values in these features."
   ]
  },
  {
   "cell_type": "code",
   "execution_count": 10,
   "metadata": {
    "ExecuteTime": {
     "end_time": "2022-05-13T04:33:16.607945Z",
     "start_time": "2022-05-13T04:33:16.599793Z"
    }
   },
   "outputs": [],
   "source": [
    "def feature_clean_up(data,features,feature_type):\n",
    "    if feature_type == 'ordinal':\n",
    "        for feature in features:\n",
    "            data[feature] = data[feature].apply(lambda x: 1 if x in ['Ex','Gd','TA'] else 0)\n",
    "    elif feature_type == 'nominal':\n",
    "        for feature in features:\n",
    "            data[feature] = data[feature].apply(lambda x: 1 if x != None else 0)\n",
    "    return data"
   ]
  },
  {
   "cell_type": "code",
   "execution_count": 11,
   "metadata": {
    "ExecuteTime": {
     "end_time": "2022-05-13T04:33:16.647323Z",
     "start_time": "2022-05-13T04:33:16.611395Z"
    }
   },
   "outputs": [],
   "source": [
    "train = feature_clean_up(train,['exter_qual','exter_cond','bsmt_qual','bsmt_cond','heating_qc',\n",
    "                        'kitchen_qual','fireplace_qu','garage_qual','garage_cond'], 'ordinal')\n",
    "\n",
    "test = feature_clean_up(test,['exter_qual','exter_cond','bsmt_qual','bsmt_cond','heating_qc',\n",
    "                        'kitchen_qual','fireplace_qu','garage_qual','garage_cond'], 'ordinal')"
   ]
  },
  {
   "cell_type": "markdown",
   "metadata": {},
   "source": [
    "Drop object-type features with 70% or more observations pertain to one class only."
   ]
  },
  {
   "cell_type": "code",
   "execution_count": 12,
   "metadata": {
    "ExecuteTime": {
     "end_time": "2022-05-13T04:33:16.664265Z",
     "start_time": "2022-05-13T04:33:16.652607Z"
    }
   },
   "outputs": [],
   "source": [
    "obj_features = [feature for feature in train.columns if train[feature].dtypes == 'O']"
   ]
  },
  {
   "cell_type": "code",
   "execution_count": 13,
   "metadata": {
    "ExecuteTime": {
     "end_time": "2022-05-13T04:33:16.738861Z",
     "start_time": "2022-05-13T04:33:16.668612Z"
    }
   },
   "outputs": [],
   "source": [
    "for feature in obj_features:\n",
    "    if train[feature].value_counts(normalize=True).sort_values(ascending=False)[0] > .7:\n",
    "        train.drop(columns=[feature],inplace=True)\n",
    "        test.drop(columns=[feature],inplace=True)"
   ]
  },
  {
   "cell_type": "markdown",
   "metadata": {},
   "source": [
    "For the remaining object-type features, correlate these features with the sales price and represent them as binary variables based on the values that correspond to a higher average sales price."
   ]
  },
  {
   "cell_type": "code",
   "execution_count": 14,
   "metadata": {
    "ExecuteTime": {
     "end_time": "2022-05-13T04:33:16.750495Z",
     "start_time": "2022-05-13T04:33:16.741339Z"
    }
   },
   "outputs": [],
   "source": [
    "def visualize_feature_with_price(feature,order,xticks,title,xlabel):\n",
    "    plt.figure(figsize=(10,5))\n",
    "    plot = sns.barplot(x=train[feature],y=train['saleprice'], order=order, ci=None)\n",
    "    plot.set_xticklabels(xticks)\n",
    "    plt.title(title, size=14)\n",
    "    plt.xlabel(xlabel,size=14)\n",
    "    plt.ylabel('Sales Price',size=14);\n",
    "    return"
   ]
  },
  {
   "cell_type": "code",
   "execution_count": 15,
   "metadata": {
    "ExecuteTime": {
     "end_time": "2022-05-13T04:33:16.954207Z",
     "start_time": "2022-05-13T04:33:16.796937Z"
    }
   },
   "outputs": [
    {
     "data": {
      "image/png": "[encoded data removed]",
      "text/plain": [
       "<Figure size 720x360 with 1 Axes>"
      ]
     },
     "metadata": {
      "needs_background": "light"
     },
     "output_type": "display_data"
    }
   ],
   "source": [
    "visualize_feature_with_price('garage_finish',['Unf','RFn','Fin'],['Unfinished','Roughly finished','Finished'],\n",
    "                            'Relationship between garage finish type and sales price',\n",
    "                            'Garage finish type')"
   ]
  },
  {
   "cell_type": "code",
   "execution_count": 16,
   "metadata": {
    "ExecuteTime": {
     "end_time": "2022-05-13T04:33:17.146631Z",
     "start_time": "2022-05-13T04:33:16.956803Z"
    }
   },
   "outputs": [
    {
     "data": {
      "image/png": "[encoded data removed]",
      "text/plain": [
       "<Figure size 720x360 with 1 Axes>"
      ]
     },
     "metadata": {
      "needs_background": "light"
     },
     "output_type": "display_data"
    }
   ],
   "source": [
    "visualize_feature_with_price('garage_type',['CarPort','Detchd','Basment','2Types','Attchd','BuiltIn'],\n",
    "                             ['Car Port','Detached','Basement','More than 1 type', 'Attached','Built-in'],\n",
    "                            'Relationship between garage type and sales price',\n",
    "                            'Garage type')"
   ]
  },
  {
   "cell_type": "code",
   "execution_count": 17,
   "metadata": {
    "ExecuteTime": {
     "end_time": "2022-05-13T04:33:17.282801Z",
     "start_time": "2022-05-13T04:33:17.149058Z"
    }
   },
   "outputs": [
    {
     "data": {
      "image/png": "[encoded data removed]",
      "text/plain": [
       "<Figure size 720x360 with 1 Axes>"
      ]
     },
     "metadata": {
      "needs_background": "light"
     },
     "output_type": "display_data"
    }
   ],
   "source": [
    "visualize_feature_with_price('mas_vnr_type',['BrkCmn','None','BrkFace','Stone'],\n",
    "                             ['Brick Common','None','Brick Face','Stone'],\n",
    "                            'Relationship between masonry veneer type and sales price',\n",
    "                            'Masonry veneer type')"
   ]
  },
  {
   "cell_type": "code",
   "execution_count": 18,
   "metadata": {
    "ExecuteTime": {
     "end_time": "2022-05-13T04:33:17.424966Z",
     "start_time": "2022-05-13T04:33:17.285485Z"
    }
   },
   "outputs": [
    {
     "data": {
      "image/png": "[encoded data removed]",
      "text/plain": [
       "<Figure size 720x360 with 1 Axes>"
      ]
     },
     "metadata": {
      "needs_background": "light"
     },
     "output_type": "display_data"
    }
   ],
   "source": [
    "visualize_feature_with_price('lot_shape',['Reg','IR3','IR1','IR2'],\n",
    "                             ['Regular','Irregular','Slightly irregular','Moderately irregular'],\n",
    "                            'Relationship between lot shape and sales price',\n",
    "                            'Lot shape')"
   ]
  },
  {
   "cell_type": "code",
   "execution_count": 19,
   "metadata": {
    "ExecuteTime": {
     "end_time": "2022-05-13T04:33:17.435269Z",
     "start_time": "2022-05-13T04:33:17.428412Z"
    }
   },
   "outputs": [],
   "source": [
    "train['garage_finish'] = train['garage_finish'].apply(lambda x: 1 if x in ['RFn','Fin'] else 0)\n",
    "test['garage_finish'] = test['garage_finish'].apply(lambda x: 1 if x in ['RFn','Fin'] else 0)"
   ]
  },
  {
   "cell_type": "code",
   "execution_count": 20,
   "metadata": {
    "ExecuteTime": {
     "end_time": "2022-05-13T04:33:17.450862Z",
     "start_time": "2022-05-13T04:33:17.438059Z"
    }
   },
   "outputs": [],
   "source": [
    "train['garage_type'] = train['garage_type'].apply(lambda x: 1 if x in ['Attchd','BuiltIn'] else 0)\n",
    "test['garage_type'] = test['garage_type'].apply(lambda x: 1 if x in ['Attchd','BuiltIn'] else 0)"
   ]
  },
  {
   "cell_type": "code",
   "execution_count": 21,
   "metadata": {
    "ExecuteTime": {
     "end_time": "2022-05-13T04:33:17.469602Z",
     "start_time": "2022-05-13T04:33:17.456923Z"
    }
   },
   "outputs": [],
   "source": [
    "train['mas_vnr_type'] = train['mas_vnr_type'].apply(lambda x: 1 if x in ['Stone','BrkCmn'] else 0)\n",
    "test['mas_vnr_type'] = test['mas_vnr_type'].apply(lambda x: 1 if x in ['Stone','BrkCmn'] else 0)"
   ]
  },
  {
   "cell_type": "code",
   "execution_count": 22,
   "metadata": {
    "ExecuteTime": {
     "end_time": "2022-05-13T04:33:17.479056Z",
     "start_time": "2022-05-13T04:33:17.471411Z"
    }
   },
   "outputs": [],
   "source": [
    "train['lot_shape'] = train['lot_shape'].apply(lambda x: 1 if x in ['IR1','IR2'] else 0)\n",
    "test['lot_shape'] = test['lot_shape'].apply(lambda x: 1 if x in ['IR1','IR2'] else 0)"
   ]
  },
  {
   "cell_type": "code",
   "execution_count": 23,
   "metadata": {
    "ExecuteTime": {
     "end_time": "2022-05-13T04:33:17.491159Z",
     "start_time": "2022-05-13T04:33:17.485495Z"
    }
   },
   "outputs": [],
   "source": [
    "train['bsmt_exposure'] = train['bsmt_exposure'].apply(lambda x: 1 if x in ['Gd','Av'] else 0)\n",
    "test['bsmt_exposure'] = test['bsmt_exposure'].apply(lambda x: 1 if x in ['Gd','Av'] else 0)"
   ]
  },
  {
   "cell_type": "code",
   "execution_count": 24,
   "metadata": {
    "ExecuteTime": {
     "end_time": "2022-05-13T04:33:17.501436Z",
     "start_time": "2022-05-13T04:33:17.493120Z"
    }
   },
   "outputs": [],
   "source": [
    "train['bsmtfin_type_1'] = train['bsmtfin_type_1'].apply(lambda x: 1 if x in ['GLQ','ALQ'] else 0)\n",
    "test['bsmtfin_type_1'] = test['bsmtfin_type_1'].apply(lambda x: 1 if x in ['GLQ','ALQ'] else 0)"
   ]
  },
  {
   "cell_type": "markdown",
   "metadata": {},
   "source": [
    "Prior to imputing any variables, identify if any of the features below have a relationship with the sales price based on a review of the pairplots below. Based on the pairplot of the relationship of these features to the sales price and Pearson correlation matrix below, some features such as `bsmtfin_sf_2` have a low correlation with sales price and can therefore be added as they are not expected to add explanatory power to the model."
   ]
  },
  {
   "cell_type": "code",
   "execution_count": 25,
   "metadata": {
    "ExecuteTime": {
     "end_time": "2022-05-13T04:33:19.409026Z",
     "start_time": "2022-05-13T04:33:17.505751Z"
    }
   },
   "outputs": [
    {
     "data": {
      "image/png": "[encoded data removed]",
      "text/plain": [
       "<Figure size 1980x180 with 11 Axes>"
      ]
     },
     "metadata": {
      "needs_background": "light"
     },
     "output_type": "display_data"
    }
   ],
   "source": [
    "plot = sns.pairplot(train,y_vars='saleprice',x_vars=list(train.isnull().sum()[train.isnull().sum()>0].index))\n",
    "plot.axes[0,0].set_ylabel('Sale Price')\n",
    "plot.axes[0,0].set_xlabel('Lot Frontage')\n",
    "plot.axes[0,1].set_xlabel('Masonry Veneer Area');"
   ]
  },
  {
   "cell_type": "code",
   "execution_count": 26,
   "metadata": {
    "ExecuteTime": {
     "end_time": "2022-05-13T04:33:19.435396Z",
     "start_time": "2022-05-13T04:33:19.417724Z"
    }
   },
   "outputs": [
    {
     "data": {
      "text/html": [
       "<div>\n",
       "<style scoped>\n",
       "    .dataframe tbody tr th:only-of-type {\n",
       "        vertical-align: middle;\n",
       "    }\n",
       "\n",
       "    .dataframe tbody tr th {\n",
       "        vertical-align: top;\n",
       "    }\n",
       "\n",
       "    .dataframe thead th {\n",
       "        text-align: right;\n",
       "    }\n",
       "</style>\n",
       "<table border=\"1\" class=\"dataframe\">\n",
       "  <thead>\n",
       "    <tr style=\"text-align: right;\">\n",
       "      <th></th>\n",
       "      <th>saleprice</th>\n",
       "    </tr>\n",
       "  </thead>\n",
       "  <tbody>\n",
       "    <tr>\n",
       "      <th>lot_frontage</th>\n",
       "      <td>0.341842</td>\n",
       "    </tr>\n",
       "    <tr>\n",
       "      <th>mas_vnr_area</th>\n",
       "      <td>0.512230</td>\n",
       "    </tr>\n",
       "    <tr>\n",
       "      <th>bsmtfin_sf_1</th>\n",
       "      <td>0.423519</td>\n",
       "    </tr>\n",
       "    <tr>\n",
       "      <th>bsmtfin_sf_2</th>\n",
       "      <td>0.016255</td>\n",
       "    </tr>\n",
       "    <tr>\n",
       "      <th>bsmt_unf_sf</th>\n",
       "      <td>0.190210</td>\n",
       "    </tr>\n",
       "    <tr>\n",
       "      <th>total_bsmt_sf</th>\n",
       "      <td>0.628925</td>\n",
       "    </tr>\n",
       "    <tr>\n",
       "      <th>bsmt_full_bath</th>\n",
       "      <td>0.283662</td>\n",
       "    </tr>\n",
       "    <tr>\n",
       "      <th>bsmt_half_bath</th>\n",
       "      <td>-0.045328</td>\n",
       "    </tr>\n",
       "    <tr>\n",
       "      <th>garage_yr_blt</th>\n",
       "      <td>0.533922</td>\n",
       "    </tr>\n",
       "    <tr>\n",
       "      <th>garage_cars</th>\n",
       "      <td>0.648220</td>\n",
       "    </tr>\n",
       "    <tr>\n",
       "      <th>garage_area</th>\n",
       "      <td>0.650270</td>\n",
       "    </tr>\n",
       "    <tr>\n",
       "      <th>saleprice</th>\n",
       "      <td>1.000000</td>\n",
       "    </tr>\n",
       "  </tbody>\n",
       "</table>\n",
       "</div>"
      ],
      "text/plain": [
       "                saleprice\n",
       "lot_frontage     0.341842\n",
       "mas_vnr_area     0.512230\n",
       "bsmtfin_sf_1     0.423519\n",
       "bsmtfin_sf_2     0.016255\n",
       "bsmt_unf_sf      0.190210\n",
       "total_bsmt_sf    0.628925\n",
       "bsmt_full_bath   0.283662\n",
       "bsmt_half_bath  -0.045328\n",
       "garage_yr_blt    0.533922\n",
       "garage_cars      0.648220\n",
       "garage_area      0.650270\n",
       "saleprice        1.000000"
      ]
     },
     "execution_count": 26,
     "metadata": {},
     "output_type": "execute_result"
    }
   ],
   "source": [
    "train[['lot_frontage', 'mas_vnr_area', 'bsmtfin_sf_1', 'bsmtfin_sf_2',\n",
    "       'bsmt_unf_sf', 'total_bsmt_sf', 'bsmt_full_bath', 'bsmt_half_bath',\n",
    "       'garage_yr_blt', 'garage_cars', 'garage_area','saleprice']].corr()[['saleprice']]"
   ]
  },
  {
   "cell_type": "markdown",
   "metadata": {},
   "source": [
    "Overall, there is a positive relationship between the year the house was built and the year the garage was built. Therefore, the effect of the year the garage was built can be proxied by the year the house was built, which does not have any missing values. Therefore, the `garage_yr_blt` variable will be dropped."
   ]
  },
  {
   "cell_type": "code",
   "execution_count": 27,
   "metadata": {
    "ExecuteTime": {
     "end_time": "2022-05-13T04:33:19.676541Z",
     "start_time": "2022-05-13T04:33:19.446738Z"
    }
   },
   "outputs": [
    {
     "name": "stderr",
     "output_type": "stream",
     "text": [
      "/Users/efesios659/opt/anaconda3/lib/python3.7/site-packages/seaborn/_decorators.py:43: FutureWarning: Pass the following variables as keyword args: x, y. From version 0.12, the only valid positional argument will be `data`, and passing other arguments without an explicit keyword will result in an error or misinterpretation.\n",
      "  FutureWarning\n"
     ]
    },
    {
     "data": {
      "image/png": "[encoded data removed]",
      "text/plain": [
       "<Figure size 720x360 with 1 Axes>"
      ]
     },
     "metadata": {
      "needs_background": "light"
     },
     "output_type": "display_data"
    }
   ],
   "source": [
    "plt.figure(figsize=(10,5))\n",
    "plt.title('Relationship between year the garage was built and year when house was built', size=14)\n",
    "plt.xlabel('Year garage was built', size=14)\n",
    "plt.ylabel('Year house was built',size=14)\n",
    "sns.scatterplot(train['garage_yr_blt'],train['year_built']);"
   ]
  },
  {
   "cell_type": "code",
   "execution_count": 28,
   "metadata": {
    "ExecuteTime": {
     "end_time": "2022-05-13T04:33:19.692310Z",
     "start_time": "2022-05-13T04:33:19.682662Z"
    }
   },
   "outputs": [
    {
     "data": {
      "text/html": [
       "<div>\n",
       "<style scoped>\n",
       "    .dataframe tbody tr th:only-of-type {\n",
       "        vertical-align: middle;\n",
       "    }\n",
       "\n",
       "    .dataframe tbody tr th {\n",
       "        vertical-align: top;\n",
       "    }\n",
       "\n",
       "    .dataframe thead th {\n",
       "        text-align: right;\n",
       "    }\n",
       "</style>\n",
       "<table border=\"1\" class=\"dataframe\">\n",
       "  <thead>\n",
       "    <tr style=\"text-align: right;\">\n",
       "      <th></th>\n",
       "      <th>garage_yr_blt</th>\n",
       "      <th>year_built</th>\n",
       "    </tr>\n",
       "  </thead>\n",
       "  <tbody>\n",
       "    <tr>\n",
       "      <th>garage_yr_blt</th>\n",
       "      <td>1.000000</td>\n",
       "      <td>0.825316</td>\n",
       "    </tr>\n",
       "    <tr>\n",
       "      <th>year_built</th>\n",
       "      <td>0.825316</td>\n",
       "      <td>1.000000</td>\n",
       "    </tr>\n",
       "  </tbody>\n",
       "</table>\n",
       "</div>"
      ],
      "text/plain": [
       "               garage_yr_blt  year_built\n",
       "garage_yr_blt       1.000000    0.825316\n",
       "year_built          0.825316    1.000000"
      ]
     },
     "execution_count": 28,
     "metadata": {},
     "output_type": "execute_result"
    }
   ],
   "source": [
    "train[['garage_yr_blt','year_built']].corr()"
   ]
  },
  {
   "cell_type": "code",
   "execution_count": 29,
   "metadata": {
    "ExecuteTime": {
     "end_time": "2022-05-13T04:33:19.711350Z",
     "start_time": "2022-05-13T04:33:19.696061Z"
    }
   },
   "outputs": [],
   "source": [
    "train.drop(columns=['lot_frontage','bsmtfin_sf_2','bsmt_unf_sf','garage_cars','garage_yr_blt'],inplace=True)\n",
    "test.drop(columns=['lot_frontage','bsmtfin_sf_2','bsmt_unf_sf','garage_cars','garage_yr_blt'],inplace=True)"
   ]
  },
  {
   "cell_type": "code",
   "execution_count": 30,
   "metadata": {
    "ExecuteTime": {
     "end_time": "2022-05-13T04:33:19.720601Z",
     "start_time": "2022-05-13T04:33:19.713832Z"
    }
   },
   "outputs": [
    {
     "data": {
      "text/plain": [
       "((2051, 54), (878, 53))"
      ]
     },
     "execution_count": 30,
     "metadata": {},
     "output_type": "execute_result"
    }
   ],
   "source": [
    "train.shape,test.shape"
   ]
  },
  {
   "cell_type": "markdown",
   "metadata": {},
   "source": [
    "For the remaining numerical features, impute the missing data with the median of each column. Evaluate the impact of the imputation of these features' means and variances to assess the impact on the features' distributions."
   ]
  },
  {
   "cell_type": "code",
   "execution_count": 31,
   "metadata": {
    "ExecuteTime": {
     "end_time": "2022-05-13T04:33:19.746093Z",
     "start_time": "2022-05-13T04:33:19.722802Z"
    }
   },
   "outputs": [],
   "source": [
    "med_imp = SimpleImputer(strategy='median')\n",
    "missing_num_features = train.isnull().sum()[train.isnull().sum()>0].index\n",
    "train_mean = train[missing_num_features]\n",
    "train_mean = med_imp.fit_transform(train_mean)\n",
    "\n",
    "train_mean = pd.DataFrame(train_mean, columns=train[missing_num_features].columns)"
   ]
  },
  {
   "cell_type": "markdown",
   "metadata": {},
   "source": [
    "Mean of features without and with imputed data."
   ]
  },
  {
   "cell_type": "code",
   "execution_count": 32,
   "metadata": {
    "ExecuteTime": {
     "end_time": "2022-05-13T04:33:19.773552Z",
     "start_time": "2022-05-13T04:33:19.750750Z"
    }
   },
   "outputs": [
    {
     "data": {
      "text/html": [
       "<div>\n",
       "<style scoped>\n",
       "    .dataframe tbody tr th:only-of-type {\n",
       "        vertical-align: middle;\n",
       "    }\n",
       "\n",
       "    .dataframe tbody tr th {\n",
       "        vertical-align: top;\n",
       "    }\n",
       "\n",
       "    .dataframe thead th {\n",
       "        text-align: right;\n",
       "    }\n",
       "</style>\n",
       "<table border=\"1\" class=\"dataframe\">\n",
       "  <thead>\n",
       "    <tr style=\"text-align: right;\">\n",
       "      <th></th>\n",
       "      <th>original mean</th>\n",
       "      <th>imputed mean</th>\n",
       "    </tr>\n",
       "  </thead>\n",
       "  <tbody>\n",
       "    <tr>\n",
       "      <th>mas_vnr_area</th>\n",
       "      <td>99.695909</td>\n",
       "      <td>98.626524</td>\n",
       "    </tr>\n",
       "    <tr>\n",
       "      <th>bsmtfin_sf_1</th>\n",
       "      <td>442.300488</td>\n",
       "      <td>442.264261</td>\n",
       "    </tr>\n",
       "    <tr>\n",
       "      <th>total_bsmt_sf</th>\n",
       "      <td>1057.987805</td>\n",
       "      <td>1057.956850</td>\n",
       "    </tr>\n",
       "    <tr>\n",
       "      <th>bsmt_full_bath</th>\n",
       "      <td>0.427526</td>\n",
       "      <td>0.427109</td>\n",
       "    </tr>\n",
       "    <tr>\n",
       "      <th>bsmt_half_bath</th>\n",
       "      <td>0.063446</td>\n",
       "      <td>0.063384</td>\n",
       "    </tr>\n",
       "    <tr>\n",
       "      <th>garage_area</th>\n",
       "      <td>473.671707</td>\n",
       "      <td>473.674793</td>\n",
       "    </tr>\n",
       "  </tbody>\n",
       "</table>\n",
       "</div>"
      ],
      "text/plain": [
       "                original mean  imputed mean\n",
       "mas_vnr_area        99.695909     98.626524\n",
       "bsmtfin_sf_1       442.300488    442.264261\n",
       "total_bsmt_sf     1057.987805   1057.956850\n",
       "bsmt_full_bath       0.427526      0.427109\n",
       "bsmt_half_bath       0.063446      0.063384\n",
       "garage_area        473.671707    473.674793"
      ]
     },
     "execution_count": 32,
     "metadata": {},
     "output_type": "execute_result"
    }
   ],
   "source": [
    "pd.DataFrame(zip(train[missing_num_features].mean(), train_mean.mean()),\n",
    "             columns=['original mean', 'imputed mean'],\n",
    "             index=[train.isnull().sum()[train.isnull().sum()>0].index])"
   ]
  },
  {
   "cell_type": "markdown",
   "metadata": {},
   "source": [
    "Variances of features without and with imputed data."
   ]
  },
  {
   "cell_type": "code",
   "execution_count": 33,
   "metadata": {
    "ExecuteTime": {
     "end_time": "2022-05-13T04:33:19.795369Z",
     "start_time": "2022-05-13T04:33:19.777414Z"
    }
   },
   "outputs": [
    {
     "data": {
      "text/html": [
       "<div>\n",
       "<style scoped>\n",
       "    .dataframe tbody tr th:only-of-type {\n",
       "        vertical-align: middle;\n",
       "    }\n",
       "\n",
       "    .dataframe tbody tr th {\n",
       "        vertical-align: top;\n",
       "    }\n",
       "\n",
       "    .dataframe thead th {\n",
       "        text-align: right;\n",
       "    }\n",
       "</style>\n",
       "<table border=\"1\" class=\"dataframe\">\n",
       "  <thead>\n",
       "    <tr style=\"text-align: right;\">\n",
       "      <th></th>\n",
       "      <th>original variance</th>\n",
       "      <th>imputed variance</th>\n",
       "    </tr>\n",
       "  </thead>\n",
       "  <tbody>\n",
       "    <tr>\n",
       "      <th>mas_vnr_area</th>\n",
       "      <td>30612.096339</td>\n",
       "      <td>30389.097521</td>\n",
       "    </tr>\n",
       "    <tr>\n",
       "      <th>bsmtfin_sf_1</th>\n",
       "      <td>212709.243972</td>\n",
       "      <td>212608.175010</td>\n",
       "    </tr>\n",
       "    <tr>\n",
       "      <th>total_bsmt_sf</th>\n",
       "      <td>201969.980818</td>\n",
       "      <td>201873.424113</td>\n",
       "    </tr>\n",
       "    <tr>\n",
       "      <th>bsmt_full_bath</th>\n",
       "      <td>0.273187</td>\n",
       "      <td>0.273099</td>\n",
       "    </tr>\n",
       "    <tr>\n",
       "      <th>bsmt_half_bath</th>\n",
       "      <td>0.063356</td>\n",
       "      <td>0.063298</td>\n",
       "    </tr>\n",
       "    <tr>\n",
       "      <th>garage_area</th>\n",
       "      <td>46627.734533</td>\n",
       "      <td>46605.008823</td>\n",
       "    </tr>\n",
       "  </tbody>\n",
       "</table>\n",
       "</div>"
      ],
      "text/plain": [
       "                original variance  imputed variance\n",
       "mas_vnr_area         30612.096339      30389.097521\n",
       "bsmtfin_sf_1        212709.243972     212608.175010\n",
       "total_bsmt_sf       201969.980818     201873.424113\n",
       "bsmt_full_bath           0.273187          0.273099\n",
       "bsmt_half_bath           0.063356          0.063298\n",
       "garage_area          46627.734533      46605.008823"
      ]
     },
     "execution_count": 33,
     "metadata": {},
     "output_type": "execute_result"
    }
   ],
   "source": [
    "pd.DataFrame(zip(train[missing_num_features].var(), train_mean.var()),\n",
    "             columns=['original variance', 'imputed variance'],\n",
    "             index=[train.isnull().sum()[train.isnull().sum()>0].index])"
   ]
  },
  {
   "cell_type": "markdown",
   "metadata": {},
   "source": [
    "The imputation does not produce a substantial impact on the distribution of these features. Therefore, the imputation can be applied."
   ]
  },
  {
   "cell_type": "code",
   "execution_count": 34,
   "metadata": {
    "ExecuteTime": {
     "end_time": "2022-05-13T04:33:19.827495Z",
     "start_time": "2022-05-13T04:33:19.798747Z"
    }
   },
   "outputs": [],
   "source": [
    "med_imp = SimpleImputer(strategy='median')\n",
    "missing_num_features = train.isnull().sum()[train.isnull().sum()>0].index\n",
    "train[missing_num_features] = med_imp.fit_transform(train[missing_num_features])\n",
    "test[missing_num_features] = med_imp.transform(test[missing_num_features])"
   ]
  },
  {
   "cell_type": "markdown",
   "metadata": {},
   "source": [
    "After the imputation was applied to the training and test sets, it is clear that there aren't any more missing values."
   ]
  },
  {
   "cell_type": "code",
   "execution_count": 35,
   "metadata": {
    "ExecuteTime": {
     "end_time": "2022-05-13T04:33:19.841856Z",
     "start_time": "2022-05-13T04:33:19.831173Z"
    }
   },
   "outputs": [
    {
     "data": {
      "text/plain": [
       "Series([], dtype: int64)"
      ]
     },
     "execution_count": 35,
     "metadata": {},
     "output_type": "execute_result"
    }
   ],
   "source": [
    "train.isnull().sum()[train.isnull().sum()>0]"
   ]
  },
  {
   "cell_type": "code",
   "execution_count": 36,
   "metadata": {
    "ExecuteTime": {
     "end_time": "2022-05-13T04:33:19.862736Z",
     "start_time": "2022-05-13T04:33:19.846972Z"
    }
   },
   "outputs": [
    {
     "data": {
      "text/plain": [
       "Series([], dtype: int64)"
      ]
     },
     "execution_count": 36,
     "metadata": {},
     "output_type": "execute_result"
    }
   ],
   "source": [
    "test.isnull().sum()[test.isnull().sum()>0]"
   ]
  },
  {
   "cell_type": "markdown",
   "metadata": {},
   "source": [
    "For features that are object-type and remain in the data set, represent them as binary features for use in the model."
   ]
  },
  {
   "cell_type": "code",
   "execution_count": 37,
   "metadata": {
    "ExecuteTime": {
     "end_time": "2022-05-13T04:33:19.875082Z",
     "start_time": "2022-05-13T04:33:19.866994Z"
    }
   },
   "outputs": [],
   "source": [
    "train['house_style'] = train['house_style'].apply(lambda x: 1 if x == '2Story' else 0)\n",
    "test['house_style'] = test['house_style'].apply(lambda x: 1 if x == '2Story' else 0)"
   ]
  },
  {
   "cell_type": "code",
   "execution_count": 38,
   "metadata": {
    "ExecuteTime": {
     "end_time": "2022-05-13T04:33:19.890058Z",
     "start_time": "2022-05-13T04:33:19.879832Z"
    }
   },
   "outputs": [],
   "source": [
    "train['exterior_1st'] = train['exterior_1st'].apply(lambda x: 1 if x in ['VinylSd','MetalSd'] else 0)\n",
    "test['exterior_1st'] = test['exterior_1st'].apply(lambda x: 1 if x in ['VinylSd','MetalSd'] else 0)"
   ]
  },
  {
   "cell_type": "code",
   "execution_count": 39,
   "metadata": {
    "ExecuteTime": {
     "end_time": "2022-05-13T04:33:19.905837Z",
     "start_time": "2022-05-13T04:33:19.893649Z"
    }
   },
   "outputs": [],
   "source": [
    "train['exterior_2nd'] = train['exterior_2nd'].apply(lambda x: 1 if x in ['VinylSd','MetalSd'] else 0)\n",
    "test['exterior_2nd'] = test['exterior_2nd'].apply(lambda x: 1 if x in ['VinylSd','MetalSd'] else 0)"
   ]
  },
  {
   "cell_type": "code",
   "execution_count": 40,
   "metadata": {
    "ExecuteTime": {
     "end_time": "2022-05-13T04:33:19.920945Z",
     "start_time": "2022-05-13T04:33:19.908981Z"
    }
   },
   "outputs": [],
   "source": [
    "train['foundation'] = train['foundation'].apply(lambda x: 1 if x == 'PConc' else 0)\n",
    "test['foundation'] = test['foundation'].apply(lambda x: 1 if x == 'PConc' else 0)"
   ]
  },
  {
   "cell_type": "code",
   "execution_count": 41,
   "metadata": {
    "ExecuteTime": {
     "end_time": "2022-05-13T04:33:19.935106Z",
     "start_time": "2022-05-13T04:33:19.923880Z"
    }
   },
   "outputs": [],
   "source": [
    "train['neighborhood'] = train['neighborhood'].apply(lambda x: 1 if x in ['NAmes','CollgCr','OldTown',\n",
    "                                                                        'Edwards','Somerst','NridgHt'] else 0)\n",
    "test['neighborhood'] = test['neighborhood'].apply(lambda x: 1 if x in ['NAmes','CollgCr','OldTown',\n",
    "                                                                      'Edwards','Somerst','NridgHt'] else 0)"
   ]
  },
  {
   "cell_type": "markdown",
   "metadata": {},
   "source": [
    "Complete encoding all remaining features."
   ]
  },
  {
   "cell_type": "code",
   "execution_count": 42,
   "metadata": {
    "ExecuteTime": {
     "end_time": "2022-05-13T04:33:19.948864Z",
     "start_time": "2022-05-13T04:33:19.938100Z"
    }
   },
   "outputs": [],
   "source": [
    "train['ms_subclass'] = train['ms_subclass'].apply(lambda x: 1 if x in [20,60] else 0)"
   ]
  },
  {
   "cell_type": "markdown",
   "metadata": {},
   "source": [
    "### Exploratory Data Analysis"
   ]
  },
  {
   "cell_type": "markdown",
   "metadata": {},
   "source": [
    "To check for large outliers or leverage points in the data, all features are scaled to a common scale and analyzed for potential high_leverage points."
   ]
  },
  {
   "cell_type": "code",
   "execution_count": 43,
   "metadata": {
    "ExecuteTime": {
     "end_time": "2022-05-13T04:33:19.965784Z",
     "start_time": "2022-05-13T04:33:19.953570Z"
    }
   },
   "outputs": [],
   "source": [
    "ss = StandardScaler()\n",
    "scaled_features = pd.DataFrame(ss.fit_transform(train.drop(columns=['id','pid'])),\n",
    "                               columns=train.drop(columns=['id','pid']).columns)"
   ]
  },
  {
   "cell_type": "code",
   "execution_count": 44,
   "metadata": {
    "ExecuteTime": {
     "end_time": "2022-05-13T04:33:21.488440Z",
     "start_time": "2022-05-13T04:33:19.968215Z"
    }
   },
   "outputs": [
    {
     "data": {
      "image/png": "[encoded data removed]",
      "text/plain": [
       "<Figure size 1152x864 with 1 Axes>"
      ]
     },
     "metadata": {
      "needs_background": "light"
     },
     "output_type": "display_data"
    }
   ],
   "source": [
    "plt.figure(figsize=(16,12))\n",
    "plt.title('Boxplot of the distribution of all scaled features', size=14)\n",
    "plt.ylabel('Feature', size=14)\n",
    "plt.xlabel('Z-score', size=14)\n",
    "sns.boxplot(data=scaled_features, orient='h');"
   ]
  },
  {
   "cell_type": "code",
   "execution_count": 45,
   "metadata": {
    "ExecuteTime": {
     "end_time": "2022-05-13T04:33:21.514022Z",
     "start_time": "2022-05-13T04:33:21.493037Z"
    }
   },
   "outputs": [
    {
     "data": {
      "text/html": [
       "<div>\n",
       "<style scoped>\n",
       "    .dataframe tbody tr th:only-of-type {\n",
       "        vertical-align: middle;\n",
       "    }\n",
       "\n",
       "    .dataframe tbody tr th {\n",
       "        vertical-align: top;\n",
       "    }\n",
       "\n",
       "    .dataframe thead th {\n",
       "        text-align: right;\n",
       "    }\n",
       "</style>\n",
       "<table border=\"1\" class=\"dataframe\">\n",
       "  <thead>\n",
       "    <tr style=\"text-align: right;\">\n",
       "      <th></th>\n",
       "      <th>ms_subclass</th>\n",
       "      <th>lot_area</th>\n",
       "      <th>lot_shape</th>\n",
       "      <th>neighborhood</th>\n",
       "      <th>house_style</th>\n",
       "      <th>overall_qual</th>\n",
       "      <th>overall_cond</th>\n",
       "      <th>year_built</th>\n",
       "      <th>year_remod/add</th>\n",
       "      <th>exterior_1st</th>\n",
       "      <th>...</th>\n",
       "      <th>wood_deck_sf</th>\n",
       "      <th>open_porch_sf</th>\n",
       "      <th>enclosed_porch</th>\n",
       "      <th>3ssn_porch</th>\n",
       "      <th>screen_porch</th>\n",
       "      <th>pool_area</th>\n",
       "      <th>misc_val</th>\n",
       "      <th>mo_sold</th>\n",
       "      <th>yr_sold</th>\n",
       "      <th>saleprice</th>\n",
       "    </tr>\n",
       "  </thead>\n",
       "  <tbody>\n",
       "    <tr>\n",
       "      <th>471</th>\n",
       "      <td>-1.145552</td>\n",
       "      <td>22.094380</td>\n",
       "      <td>1.32123</td>\n",
       "      <td>-1.022187</td>\n",
       "      <td>-0.641531</td>\n",
       "      <td>-0.078644</td>\n",
       "      <td>1.302118</td>\n",
       "      <td>-0.454381</td>\n",
       "      <td>1.037027</td>\n",
       "      <td>-1.029192</td>\n",
       "      <td>...</td>\n",
       "      <td>-0.730121</td>\n",
       "      <td>0.755919</td>\n",
       "      <td>-0.377264</td>\n",
       "      <td>-0.102738</td>\n",
       "      <td>-0.287856</td>\n",
       "      <td>-0.06348</td>\n",
       "      <td>0.782246</td>\n",
       "      <td>-0.080134</td>\n",
       "      <td>-0.591387</td>\n",
       "      <td>1.205592</td>\n",
       "    </tr>\n",
       "    <tr>\n",
       "      <th>694</th>\n",
       "      <td>0.872942</td>\n",
       "      <td>15.589113</td>\n",
       "      <td>1.32123</td>\n",
       "      <td>-1.022187</td>\n",
       "      <td>-0.641531</td>\n",
       "      <td>0.622656</td>\n",
       "      <td>-0.509102</td>\n",
       "      <td>-0.023497</td>\n",
       "      <td>0.846833</td>\n",
       "      <td>-1.029192</td>\n",
       "      <td>...</td>\n",
       "      <td>2.226662</td>\n",
       "      <td>0.006642</td>\n",
       "      <td>-0.377264</td>\n",
       "      <td>-0.102738</td>\n",
       "      <td>-0.287856</td>\n",
       "      <td>-0.06348</td>\n",
       "      <td>-0.089968</td>\n",
       "      <td>-0.080134</td>\n",
       "      <td>-0.591387</td>\n",
       "      <td>1.521092</td>\n",
       "    </tr>\n",
       "  </tbody>\n",
       "</table>\n",
       "<p>2 rows × 52 columns</p>\n",
       "</div>"
      ],
      "text/plain": [
       "     ms_subclass   lot_area  lot_shape  neighborhood  house_style  \\\n",
       "471    -1.145552  22.094380    1.32123     -1.022187    -0.641531   \n",
       "694     0.872942  15.589113    1.32123     -1.022187    -0.641531   \n",
       "\n",
       "     overall_qual  overall_cond  year_built  year_remod/add  exterior_1st  \\\n",
       "471     -0.078644      1.302118   -0.454381        1.037027     -1.029192   \n",
       "694      0.622656     -0.509102   -0.023497        0.846833     -1.029192   \n",
       "\n",
       "     ...  wood_deck_sf  open_porch_sf  enclosed_porch  3ssn_porch  \\\n",
       "471  ...     -0.730121       0.755919       -0.377264   -0.102738   \n",
       "694  ...      2.226662       0.006642       -0.377264   -0.102738   \n",
       "\n",
       "     screen_porch  pool_area  misc_val   mo_sold   yr_sold  saleprice  \n",
       "471     -0.287856   -0.06348  0.782246 -0.080134 -0.591387   1.205592  \n",
       "694     -0.287856   -0.06348 -0.089968 -0.080134 -0.591387   1.521092  \n",
       "\n",
       "[2 rows x 52 columns]"
      ]
     },
     "execution_count": 45,
     "metadata": {},
     "output_type": "execute_result"
    }
   ],
   "source": [
    "scaled_features[scaled_features['lot_area']> 15]"
   ]
  },
  {
   "cell_type": "markdown",
   "metadata": {},
   "source": [
    "The lot area for these two observations is sufficiently high that it may skew the distribution of the data set. Since these observations account for only a very small percentage of the dataset, they can be dropped. Drop the observations with extreme values in `lot_area` or at or above the 99.9th percentile."
   ]
  },
  {
   "cell_type": "code",
   "execution_count": 46,
   "metadata": {
    "ExecuteTime": {
     "end_time": "2022-05-13T04:33:21.528969Z",
     "start_time": "2022-05-13T04:33:21.521739Z"
    }
   },
   "outputs": [
    {
     "data": {
      "text/plain": [
       "8.953193820097576"
      ]
     },
     "execution_count": 46,
     "metadata": {},
     "output_type": "execute_result"
    }
   ],
   "source": [
    "np.percentile(scaled_features['lot_area'],99.9)"
   ]
  },
  {
   "cell_type": "code",
   "execution_count": 47,
   "metadata": {
    "ExecuteTime": {
     "end_time": "2022-05-13T04:33:21.541834Z",
     "start_time": "2022-05-13T04:33:21.531193Z"
    }
   },
   "outputs": [],
   "source": [
    "train = train[train['lot_area'] < np.percentile(train['lot_area'],99.9)]\n",
    "test = test[test['lot_area'] < np.percentile(test['lot_area'],99.9)]"
   ]
  },
  {
   "cell_type": "code",
   "execution_count": 48,
   "metadata": {
    "ExecuteTime": {
     "end_time": "2022-05-13T04:33:21.559119Z",
     "start_time": "2022-05-13T04:33:21.544795Z"
    }
   },
   "outputs": [
    {
     "data": {
      "text/plain": [
       "((2048, 54), (877, 53))"
      ]
     },
     "execution_count": 48,
     "metadata": {},
     "output_type": "execute_result"
    }
   ],
   "source": [
    "train.shape, test.shape"
   ]
  },
  {
   "cell_type": "code",
   "execution_count": 49,
   "metadata": {
    "ExecuteTime": {
     "end_time": "2022-05-13T04:33:22.566283Z",
     "start_time": "2022-05-13T04:33:21.563118Z"
    }
   },
   "outputs": [
    {
     "data": {
      "image/png": "[encoded data removed]",
      "text/plain": [
       "<Figure size 504x1080 with 2 Axes>"
      ]
     },
     "metadata": {
      "needs_background": "light"
     },
     "output_type": "display_data"
    }
   ],
   "source": [
    "plt.figure(figsize=(7,15))\n",
    "plt.ylabel('Feature',size=14)\n",
    "plt.xlabel('Sales Price')\n",
    "plt.title('Correlation of home features with sales price')\n",
    "sns.heatmap(np.abs(train.drop(columns=['id','pid']).corr()[['saleprice']]).sort_values(by='saleprice',ascending=False)\n",
    "            ,vmin=0,vmax=1, annot=True, cmap='Blues');"
   ]
  },
  {
   "cell_type": "markdown",
   "metadata": {},
   "source": [
    "Based on this correlations heatmap, it appears that certain features has a strong association with the sales price, which include:\n",
    "* Overall quality\n",
    "* Above grade (ground) living area square feet\n",
    "* Garage area\n",
    "* Total square footage in the basement\n",
    "* 1st floor square footage\n",
    "* Year built and remodeled\n",
    "* Number of full bathrooms\n",
    "* Whether a garage is finished or roughly finished\n",
    "* A measure of fireplace quality, where fireplaces are of at least average quality\n",
    "* Total rooms above grade\n",
    "* Type of foundation\n",
    "* Masonry veneer area in square footage"
   ]
  },
  {
   "cell_type": "markdown",
   "metadata": {},
   "source": [
    "### Explore the distribution of the independent variable, sales price."
   ]
  },
  {
   "cell_type": "code",
   "execution_count": 50,
   "metadata": {
    "ExecuteTime": {
     "end_time": "2022-05-13T04:33:23.054620Z",
     "start_time": "2022-05-13T04:33:22.570629Z"
    }
   },
   "outputs": [
    {
     "name": "stderr",
     "output_type": "stream",
     "text": [
      "/Users/efesios659/opt/anaconda3/lib/python3.7/site-packages/matplotlib/cbook/__init__.py:1402: FutureWarning: Support for multi-dimensional indexing (e.g. `obj[:, None]`) is deprecated and will be removed in a future version.  Convert to a numpy array before indexing instead.\n",
      "  x[:, None]\n",
      "/Users/efesios659/opt/anaconda3/lib/python3.7/site-packages/matplotlib/axes/_base.py:276: FutureWarning: Support for multi-dimensional indexing (e.g. `obj[:, None]`) is deprecated and will be removed in a future version.  Convert to a numpy array before indexing instead.\n",
      "  x = x[:, np.newaxis]\n",
      "/Users/efesios659/opt/anaconda3/lib/python3.7/site-packages/matplotlib/axes/_base.py:278: FutureWarning: Support for multi-dimensional indexing (e.g. `obj[:, None]`) is deprecated and will be removed in a future version.  Convert to a numpy array before indexing instead.\n",
      "  y = y[:, np.newaxis]\n"
     ]
    },
    {
     "data": {
      "image/png": "[encoded data removed]",
      "text/plain": [
       "<Figure size 720x360 with 1 Axes>"
      ]
     },
     "metadata": {
      "needs_background": "light"
     },
     "output_type": "display_data"
    }
   ],
   "source": [
    "plt.figure(figsize=(10,5))\n",
    "plt.xlabel('Sales Price', size=14)\n",
    "plt.ylabel('Frequency', size=14)\n",
    "plt.title('Distribution of the sales price for houses in Ames, IA, between 2006 and 2010', size=14)\n",
    "sns.histplot(train['saleprice'],color='blue', kde=True);"
   ]
  },
  {
   "cell_type": "markdown",
   "metadata": {},
   "source": [
    "To make sure that the assumptions of the linear regression model are not largely deviated from, smooth the distribution of the sales price by calculating the natural log of this feature."
   ]
  },
  {
   "cell_type": "code",
   "execution_count": 51,
   "metadata": {
    "ExecuteTime": {
     "end_time": "2022-05-13T04:33:23.069054Z",
     "start_time": "2022-05-13T04:33:23.058029Z"
    }
   },
   "outputs": [
    {
     "name": "stderr",
     "output_type": "stream",
     "text": [
      "/Users/efesios659/opt/anaconda3/lib/python3.7/site-packages/ipykernel_launcher.py:1: SettingWithCopyWarning: \n",
      "A value is trying to be set on a copy of a slice from a DataFrame.\n",
      "Try using .loc[row_indexer,col_indexer] = value instead\n",
      "\n",
      "See the caveats in the documentation: https://pandas.pydata.org/pandas-docs/stable/user_guide/indexing.html#returning-a-view-versus-a-copy\n",
      "  \"\"\"Entry point for launching an IPython kernel.\n"
     ]
    }
   ],
   "source": [
    "train['saleprice'] = np.log(train['saleprice'])"
   ]
  },
  {
   "cell_type": "code",
   "execution_count": 52,
   "metadata": {
    "ExecuteTime": {
     "end_time": "2022-05-13T04:33:23.356216Z",
     "start_time": "2022-05-13T04:33:23.075731Z"
    }
   },
   "outputs": [
    {
     "name": "stderr",
     "output_type": "stream",
     "text": [
      "/Users/efesios659/opt/anaconda3/lib/python3.7/site-packages/matplotlib/cbook/__init__.py:1402: FutureWarning: Support for multi-dimensional indexing (e.g. `obj[:, None]`) is deprecated and will be removed in a future version.  Convert to a numpy array before indexing instead.\n",
      "  x[:, None]\n",
      "/Users/efesios659/opt/anaconda3/lib/python3.7/site-packages/matplotlib/axes/_base.py:276: FutureWarning: Support for multi-dimensional indexing (e.g. `obj[:, None]`) is deprecated and will be removed in a future version.  Convert to a numpy array before indexing instead.\n",
      "  x = x[:, np.newaxis]\n",
      "/Users/efesios659/opt/anaconda3/lib/python3.7/site-packages/matplotlib/axes/_base.py:278: FutureWarning: Support for multi-dimensional indexing (e.g. `obj[:, None]`) is deprecated and will be removed in a future version.  Convert to a numpy array before indexing instead.\n",
      "  y = y[:, np.newaxis]\n"
     ]
    },
    {
     "data": {
      "image/png": "[encoded data removed]",
      "text/plain": [
       "<Figure size 720x360 with 1 Axes>"
      ]
     },
     "metadata": {
      "needs_background": "light"
     },
     "output_type": "display_data"
    }
   ],
   "source": [
    "plt.figure(figsize=(10,5))\n",
    "plt.xlabel('Log of Sales Price', size=14)\n",
    "plt.ylabel('Frequency', size=14)\n",
    "plt.title('Distribution of the natural log of sales price for houses in Ames, IA, between 2006 and 2010', size=14)\n",
    "sns.histplot(train['saleprice'],color='orange', kde=True);"
   ]
  },
  {
   "cell_type": "markdown",
   "metadata": {},
   "source": [
    "This feature is now closer to being normally distributed."
   ]
  },
  {
   "cell_type": "markdown",
   "metadata": {},
   "source": [
    "To continue exploring the relationship of all features to the target variable, use the `statsmodels api` to fit a multiple linear regression model of the features on the sales price. First, based on the correlations matrix previously identified and the features with an expected or strong relationship with sales price, select a group of features to run the multiple linear regression model."
   ]
  },
  {
   "cell_type": "code",
   "execution_count": 53,
   "metadata": {
    "ExecuteTime": {
     "end_time": "2022-05-13T04:33:23.378819Z",
     "start_time": "2022-05-13T04:33:23.358775Z"
    }
   },
   "outputs": [],
   "source": [
    "corr = train.corr()[['saleprice']].sort_values(by='saleprice',ascending=False)"
   ]
  },
  {
   "cell_type": "code",
   "execution_count": 54,
   "metadata": {
    "ExecuteTime": {
     "end_time": "2022-05-13T04:33:23.386725Z",
     "start_time": "2022-05-13T04:33:23.382333Z"
    }
   },
   "outputs": [],
   "source": [
    "corr = corr[corr['saleprice']> 0.17]"
   ]
  },
  {
   "cell_type": "markdown",
   "metadata": {},
   "source": [
    "Standarize the features prior to running the OLS regression. The following features were selected based on an iterative analysis of features that had a p-value of 0.05 or less when regressed against the sales price. These are features whose regression coefficients have a statistically significant effect on the sales price. The regression output below also shows that the R-squared value is 87% or that 87% of the variation in the sales price is explained by the model."
   ]
  },
  {
   "cell_type": "code",
   "execution_count": 55,
   "metadata": {
    "ExecuteTime": {
     "end_time": "2022-05-13T04:33:23.391730Z",
     "start_time": "2022-05-13T04:33:23.388726Z"
    }
   },
   "outputs": [],
   "source": [
    "ss = StandardScaler()"
   ]
  },
  {
   "cell_type": "code",
   "execution_count": 56,
   "metadata": {
    "ExecuteTime": {
     "end_time": "2022-05-13T04:33:23.400640Z",
     "start_time": "2022-05-13T04:33:23.393476Z"
    }
   },
   "outputs": [],
   "source": [
    "features = ['ms_subclass','lot_area','lot_shape','overall_qual','overall_cond',\n",
    "            'year_built','year_remod/add','exter_cond','foundation','bsmt_qual',\n",
    "            'bsmt_exposure','bsmtfin_type_1','total_bsmt_sf','gr_liv_area',\n",
    "            'bsmt_full_bath','full_bath','totrms_abvgrd','fireplaces',\n",
    "            'fireplace_qu','garage_area','garage_cond','wood_deck_sf',\n",
    "            'enclosed_porch','screen_porch']"
   ]
  },
  {
   "cell_type": "code",
   "execution_count": 57,
   "metadata": {
    "ExecuteTime": {
     "end_time": "2022-05-13T04:33:23.415236Z",
     "start_time": "2022-05-13T04:33:23.403669Z"
    }
   },
   "outputs": [],
   "source": [
    "X = pd.DataFrame(ss.fit_transform(train[features]),\n",
    "                 columns=train[features].columns)"
   ]
  },
  {
   "cell_type": "code",
   "execution_count": 58,
   "metadata": {
    "ExecuteTime": {
     "end_time": "2022-05-13T04:33:23.426612Z",
     "start_time": "2022-05-13T04:33:23.418676Z"
    }
   },
   "outputs": [],
   "source": [
    "X = sm.add_constant(X)"
   ]
  },
  {
   "cell_type": "code",
   "execution_count": 59,
   "metadata": {
    "ExecuteTime": {
     "end_time": "2022-05-13T04:33:23.435713Z",
     "start_time": "2022-05-13T04:33:23.429086Z"
    }
   },
   "outputs": [],
   "source": [
    "y = pd.DataFrame(train['saleprice'])"
   ]
  },
  {
   "cell_type": "code",
   "execution_count": 60,
   "metadata": {
    "ExecuteTime": {
     "end_time": "2022-05-13T04:33:23.443678Z",
     "start_time": "2022-05-13T04:33:23.439111Z"
    },
    "scrolled": true
   },
   "outputs": [],
   "source": [
    "y.reset_index(inplace=True)"
   ]
  },
  {
   "cell_type": "code",
   "execution_count": 61,
   "metadata": {
    "ExecuteTime": {
     "end_time": "2022-05-13T04:33:23.454270Z",
     "start_time": "2022-05-13T04:33:23.446316Z"
    }
   },
   "outputs": [],
   "source": [
    "y.drop(columns='index', inplace=True)"
   ]
  },
  {
   "cell_type": "code",
   "execution_count": 62,
   "metadata": {
    "ExecuteTime": {
     "end_time": "2022-05-13T04:33:23.465020Z",
     "start_time": "2022-05-13T04:33:23.456582Z"
    }
   },
   "outputs": [],
   "source": [
    "ols = sm.OLS(y, X).fit()"
   ]
  },
  {
   "cell_type": "code",
   "execution_count": 63,
   "metadata": {
    "ExecuteTime": {
     "end_time": "2022-05-13T04:33:23.497489Z",
     "start_time": "2022-05-13T04:33:23.470482Z"
    },
    "scrolled": false
   },
   "outputs": [
    {
     "data": {
      "text/html": [
       "<table class=\"simpletable\">\n",
       "<caption>OLS Regression Results</caption>\n",
       "<tr>\n",
       "  <th>Dep. Variable:</th>        <td>saleprice</td>    <th>  R-squared:         </th> <td>   0.870</td>\n",
       "</tr>\n",
       "<tr>\n",
       "  <th>Model:</th>                   <td>OLS</td>       <th>  Adj. R-squared:    </th> <td>   0.868</td>\n",
       "</tr>\n",
       "<tr>\n",
       "  <th>Method:</th>             <td>Least Squares</td>  <th>  F-statistic:       </th> <td>   562.3</td>\n",
       "</tr>\n",
       "<tr>\n",
       "  <th>Date:</th>             <td>Fri, 13 May 2022</td> <th>  Prob (F-statistic):</th>  <td>  0.00</td> \n",
       "</tr>\n",
       "<tr>\n",
       "  <th>Time:</th>                 <td>00:33:23</td>     <th>  Log-Likelihood:    </th> <td>  1001.3</td>\n",
       "</tr>\n",
       "<tr>\n",
       "  <th>No. Observations:</th>      <td>  2048</td>      <th>  AIC:               </th> <td>  -1953.</td>\n",
       "</tr>\n",
       "<tr>\n",
       "  <th>Df Residuals:</th>          <td>  2023</td>      <th>  BIC:               </th> <td>  -1812.</td>\n",
       "</tr>\n",
       "<tr>\n",
       "  <th>Df Model:</th>              <td>    24</td>      <th>                     </th>     <td> </td>   \n",
       "</tr>\n",
       "<tr>\n",
       "  <th>Covariance Type:</th>      <td>nonrobust</td>    <th>                     </th>     <td> </td>   \n",
       "</tr>\n",
       "</table>\n",
       "<table class=\"simpletable\">\n",
       "<tr>\n",
       "         <td></td>           <th>coef</th>     <th>std err</th>      <th>t</th>      <th>P>|t|</th>  <th>[0.025</th>    <th>0.975]</th>  \n",
       "</tr>\n",
       "<tr>\n",
       "  <th>const</th>          <td>   12.0236</td> <td>    0.003</td> <td> 3644.202</td> <td> 0.000</td> <td>   12.017</td> <td>   12.030</td>\n",
       "</tr>\n",
       "<tr>\n",
       "  <th>ms_subclass</th>    <td>    0.0236</td> <td>    0.004</td> <td>    5.488</td> <td> 0.000</td> <td>    0.015</td> <td>    0.032</td>\n",
       "</tr>\n",
       "<tr>\n",
       "  <th>lot_area</th>       <td>    0.0178</td> <td>    0.004</td> <td>    4.196</td> <td> 0.000</td> <td>    0.009</td> <td>    0.026</td>\n",
       "</tr>\n",
       "<tr>\n",
       "  <th>lot_shape</th>      <td>    0.0117</td> <td>    0.004</td> <td>    3.259</td> <td> 0.001</td> <td>    0.005</td> <td>    0.019</td>\n",
       "</tr>\n",
       "<tr>\n",
       "  <th>overall_qual</th>   <td>    0.1263</td> <td>    0.006</td> <td>   21.652</td> <td> 0.000</td> <td>    0.115</td> <td>    0.138</td>\n",
       "</tr>\n",
       "<tr>\n",
       "  <th>overall_cond</th>   <td>    0.0489</td> <td>    0.004</td> <td>   11.351</td> <td> 0.000</td> <td>    0.040</td> <td>    0.057</td>\n",
       "</tr>\n",
       "<tr>\n",
       "  <th>year_built</th>     <td>    0.0583</td> <td>    0.007</td> <td>    7.994</td> <td> 0.000</td> <td>    0.044</td> <td>    0.073</td>\n",
       "</tr>\n",
       "<tr>\n",
       "  <th>year_remod/add</th> <td>    0.0195</td> <td>    0.005</td> <td>    3.729</td> <td> 0.000</td> <td>    0.009</td> <td>    0.030</td>\n",
       "</tr>\n",
       "<tr>\n",
       "  <th>exter_cond</th>     <td>    0.0182</td> <td>    0.004</td> <td>    5.090</td> <td> 0.000</td> <td>    0.011</td> <td>    0.025</td>\n",
       "</tr>\n",
       "<tr>\n",
       "  <th>foundation</th>     <td>    0.0229</td> <td>    0.005</td> <td>    4.552</td> <td> 0.000</td> <td>    0.013</td> <td>    0.033</td>\n",
       "</tr>\n",
       "<tr>\n",
       "  <th>bsmt_qual</th>      <td>    0.0095</td> <td>    0.004</td> <td>    2.549</td> <td> 0.011</td> <td>    0.002</td> <td>    0.017</td>\n",
       "</tr>\n",
       "<tr>\n",
       "  <th>bsmt_exposure</th>  <td>    0.0214</td> <td>    0.004</td> <td>    5.516</td> <td> 0.000</td> <td>    0.014</td> <td>    0.029</td>\n",
       "</tr>\n",
       "<tr>\n",
       "  <th>bsmtfin_type_1</th> <td>    0.0149</td> <td>    0.004</td> <td>    3.504</td> <td> 0.000</td> <td>    0.007</td> <td>    0.023</td>\n",
       "</tr>\n",
       "<tr>\n",
       "  <th>total_bsmt_sf</th>  <td>    0.0342</td> <td>    0.005</td> <td>    7.243</td> <td> 0.000</td> <td>    0.025</td> <td>    0.043</td>\n",
       "</tr>\n",
       "<tr>\n",
       "  <th>gr_liv_area</th>    <td>    0.0877</td> <td>    0.008</td> <td>   11.661</td> <td> 0.000</td> <td>    0.073</td> <td>    0.102</td>\n",
       "</tr>\n",
       "<tr>\n",
       "  <th>bsmt_full_bath</th> <td>    0.0280</td> <td>    0.004</td> <td>    6.882</td> <td> 0.000</td> <td>    0.020</td> <td>    0.036</td>\n",
       "</tr>\n",
       "<tr>\n",
       "  <th>full_bath</th>      <td>    0.0191</td> <td>    0.005</td> <td>    3.841</td> <td> 0.000</td> <td>    0.009</td> <td>    0.029</td>\n",
       "</tr>\n",
       "<tr>\n",
       "  <th>totrms_abvgrd</th>  <td>    0.0168</td> <td>    0.006</td> <td>    2.832</td> <td> 0.005</td> <td>    0.005</td> <td>    0.028</td>\n",
       "</tr>\n",
       "<tr>\n",
       "  <th>fireplaces</th>     <td>    0.0111</td> <td>    0.006</td> <td>    1.727</td> <td> 0.084</td> <td>   -0.002</td> <td>    0.024</td>\n",
       "</tr>\n",
       "<tr>\n",
       "  <th>fireplace_qu</th>   <td>    0.0246</td> <td>    0.006</td> <td>    3.896</td> <td> 0.000</td> <td>    0.012</td> <td>    0.037</td>\n",
       "</tr>\n",
       "<tr>\n",
       "  <th>garage_area</th>    <td>    0.0257</td> <td>    0.005</td> <td>    5.133</td> <td> 0.000</td> <td>    0.016</td> <td>    0.035</td>\n",
       "</tr>\n",
       "<tr>\n",
       "  <th>garage_cond</th>    <td>    0.0223</td> <td>    0.004</td> <td>    5.354</td> <td> 0.000</td> <td>    0.014</td> <td>    0.030</td>\n",
       "</tr>\n",
       "<tr>\n",
       "  <th>wood_deck_sf</th>   <td>    0.0060</td> <td>    0.004</td> <td>    1.639</td> <td> 0.101</td> <td>   -0.001</td> <td>    0.013</td>\n",
       "</tr>\n",
       "<tr>\n",
       "  <th>enclosed_porch</th> <td>    0.0110</td> <td>    0.004</td> <td>    2.994</td> <td> 0.003</td> <td>    0.004</td> <td>    0.018</td>\n",
       "</tr>\n",
       "<tr>\n",
       "  <th>screen_porch</th>   <td>    0.0223</td> <td>    0.003</td> <td>    6.473</td> <td> 0.000</td> <td>    0.016</td> <td>    0.029</td>\n",
       "</tr>\n",
       "</table>\n",
       "<table class=\"simpletable\">\n",
       "<tr>\n",
       "  <th>Omnibus:</th>       <td>1749.398</td> <th>  Durbin-Watson:     </th>  <td>   1.994</td> \n",
       "</tr>\n",
       "<tr>\n",
       "  <th>Prob(Omnibus):</th>  <td> 0.000</td>  <th>  Jarque-Bera (JB):  </th> <td>155073.256</td>\n",
       "</tr>\n",
       "<tr>\n",
       "  <th>Skew:</th>           <td>-3.513</td>  <th>  Prob(JB):          </th>  <td>    0.00</td> \n",
       "</tr>\n",
       "<tr>\n",
       "  <th>Kurtosis:</th>       <td>45.047</td>  <th>  Cond. No.          </th>  <td>    7.09</td> \n",
       "</tr>\n",
       "</table><br/><br/>Notes:<br/>[1] Standard Errors assume that the covariance matrix of the errors is correctly specified."
      ],
      "text/plain": [
       "<class 'statsmodels.iolib.summary.Summary'>\n",
       "\"\"\"\n",
       "                            OLS Regression Results                            \n",
       "==============================================================================\n",
       "Dep. Variable:              saleprice   R-squared:                       0.870\n",
       "Model:                            OLS   Adj. R-squared:                  0.868\n",
       "Method:                 Least Squares   F-statistic:                     562.3\n",
       "Date:                Fri, 13 May 2022   Prob (F-statistic):               0.00\n",
       "Time:                        00:33:23   Log-Likelihood:                 1001.3\n",
       "No. Observations:                2048   AIC:                            -1953.\n",
       "Df Residuals:                    2023   BIC:                            -1812.\n",
       "Df Model:                          24                                         \n",
       "Covariance Type:            nonrobust                                         \n",
       "==================================================================================\n",
       "                     coef    std err          t      P>|t|      [0.025      0.975]\n",
       "----------------------------------------------------------------------------------\n",
       "const             12.0236      0.003   3644.202      0.000      12.017      12.030\n",
       "ms_subclass        0.0236      0.004      5.488      0.000       0.015       0.032\n",
       "lot_area           0.0178      0.004      4.196      0.000       0.009       0.026\n",
       "lot_shape          0.0117      0.004      3.259      0.001       0.005       0.019\n",
       "overall_qual       0.1263      0.006     21.652      0.000       0.115       0.138\n",
       "overall_cond       0.0489      0.004     11.351      0.000       0.040       0.057\n",
       "year_built         0.0583      0.007      7.994      0.000       0.044       0.073\n",
       "year_remod/add     0.0195      0.005      3.729      0.000       0.009       0.030\n",
       "exter_cond         0.0182      0.004      5.090      0.000       0.011       0.025\n",
       "foundation         0.0229      0.005      4.552      0.000       0.013       0.033\n",
       "bsmt_qual          0.0095      0.004      2.549      0.011       0.002       0.017\n",
       "bsmt_exposure      0.0214      0.004      5.516      0.000       0.014       0.029\n",
       "bsmtfin_type_1     0.0149      0.004      3.504      0.000       0.007       0.023\n",
       "total_bsmt_sf      0.0342      0.005      7.243      0.000       0.025       0.043\n",
       "gr_liv_area        0.0877      0.008     11.661      0.000       0.073       0.102\n",
       "bsmt_full_bath     0.0280      0.004      6.882      0.000       0.020       0.036\n",
       "full_bath          0.0191      0.005      3.841      0.000       0.009       0.029\n",
       "totrms_abvgrd      0.0168      0.006      2.832      0.005       0.005       0.028\n",
       "fireplaces         0.0111      0.006      1.727      0.084      -0.002       0.024\n",
       "fireplace_qu       0.0246      0.006      3.896      0.000       0.012       0.037\n",
       "garage_area        0.0257      0.005      5.133      0.000       0.016       0.035\n",
       "garage_cond        0.0223      0.004      5.354      0.000       0.014       0.030\n",
       "wood_deck_sf       0.0060      0.004      1.639      0.101      -0.001       0.013\n",
       "enclosed_porch     0.0110      0.004      2.994      0.003       0.004       0.018\n",
       "screen_porch       0.0223      0.003      6.473      0.000       0.016       0.029\n",
       "==============================================================================\n",
       "Omnibus:                     1749.398   Durbin-Watson:                   1.994\n",
       "Prob(Omnibus):                  0.000   Jarque-Bera (JB):           155073.256\n",
       "Skew:                          -3.513   Prob(JB):                         0.00\n",
       "Kurtosis:                      45.047   Cond. No.                         7.09\n",
       "==============================================================================\n",
       "\n",
       "Notes:\n",
       "[1] Standard Errors assume that the covariance matrix of the errors is correctly specified.\n",
       "\"\"\""
      ]
     },
     "execution_count": 63,
     "metadata": {},
     "output_type": "execute_result"
    }
   ],
   "source": [
    "ols.summary()"
   ]
  },
  {
   "cell_type": "markdown",
   "metadata": {},
   "source": [
    "Based on the regression output below, the model explains approximately 87% of the variability in the natural log of the sales price based on the features selected. Some features have statistically significant coefficients as measured by the p-value of or lower than 0.05. For instance, the natural log of `lot area` has a statistically significant effect on the natural log of the sale price at any confidence level because the p-value is 0.\n",
    "\n",
    "As the lot area increases by one square footage unit, the sale price increases by around 2% holding all other variables constant [source](https://sites.google.com/site/curtiskephart/ta/econ113/interpreting-beta). This demonstrates that as expected, `Lot Area` is a relevant variable in explaining sale prices."
   ]
  },
  {
   "cell_type": "code",
   "execution_count": 64,
   "metadata": {
    "ExecuteTime": {
     "end_time": "2022-05-13T04:33:23.504449Z",
     "start_time": "2022-05-13T04:33:23.501098Z"
    }
   },
   "outputs": [],
   "source": [
    "lr = LinearRegression()"
   ]
  },
  {
   "cell_type": "code",
   "execution_count": 65,
   "metadata": {
    "ExecuteTime": {
     "end_time": "2022-05-13T04:33:23.520980Z",
     "start_time": "2022-05-13T04:33:23.506871Z"
    }
   },
   "outputs": [
    {
     "data": {
      "text/plain": [
       "LinearRegression()"
      ]
     },
     "execution_count": 65,
     "metadata": {},
     "output_type": "execute_result"
    }
   ],
   "source": [
    "lr.fit(X, y)"
   ]
  },
  {
   "cell_type": "code",
   "execution_count": 66,
   "metadata": {
    "ExecuteTime": {
     "end_time": "2022-05-13T04:33:23.535624Z",
     "start_time": "2022-05-13T04:33:23.523534Z"
    }
   },
   "outputs": [],
   "source": [
    "coeffs = pd.DataFrame(zip(X.columns,lr.coef_.reshape(-1,1)), columns=['Feature', 'Reg Coefficient'])"
   ]
  },
  {
   "cell_type": "code",
   "execution_count": 67,
   "metadata": {
    "ExecuteTime": {
     "end_time": "2022-05-13T04:33:23.545985Z",
     "start_time": "2022-05-13T04:33:23.537824Z"
    }
   },
   "outputs": [],
   "source": [
    "coeffs['Reg Coefficient'] = coeffs['Reg Coefficient'].astype(float)"
   ]
  },
  {
   "cell_type": "code",
   "execution_count": 68,
   "metadata": {
    "ExecuteTime": {
     "end_time": "2022-05-13T04:33:23.557898Z",
     "start_time": "2022-05-13T04:33:23.548424Z"
    }
   },
   "outputs": [],
   "source": [
    "coeffs = coeffs.sort_values(by='Reg Coefficient', ascending=False)"
   ]
  },
  {
   "cell_type": "code",
   "execution_count": 69,
   "metadata": {
    "ExecuteTime": {
     "end_time": "2022-05-13T04:33:23.569359Z",
     "start_time": "2022-05-13T04:33:23.561708Z"
    }
   },
   "outputs": [],
   "source": [
    "coeffs = coeffs.drop(index=0)"
   ]
  },
  {
   "cell_type": "code",
   "execution_count": 70,
   "metadata": {
    "ExecuteTime": {
     "end_time": "2022-05-13T04:33:23.576508Z",
     "start_time": "2022-05-13T04:33:23.572590Z"
    }
   },
   "outputs": [],
   "source": [
    "feature_names = list(coeffs['Feature'].values)"
   ]
  },
  {
   "cell_type": "code",
   "execution_count": 71,
   "metadata": {
    "ExecuteTime": {
     "end_time": "2022-05-13T04:33:23.607276Z",
     "start_time": "2022-05-13T04:33:23.579454Z"
    }
   },
   "outputs": [],
   "source": [
    "coeffs.loc[coeffs['Feature']=='overall_qual', 'Feature'] = 'Overall quality'\n",
    "coeffs.loc[coeffs['Feature']=='gr_liv_area', 'Feature'] = 'Above grade (ground) living area square feet'\n",
    "coeffs.loc[coeffs['Feature']=='year_built', 'Feature'] = 'Year Built'\n",
    "coeffs.loc[coeffs['Feature']=='overall_cond', 'Feature'] = 'Overall condition'\n",
    "coeffs.loc[coeffs['Feature']=='total_bsmt_sf', 'Feature'] = 'Total basement square footage'\n",
    "coeffs.loc[coeffs['Feature']=='bsmt_full_bath', 'Feature'] = 'Full bathrooms in basement'\n",
    "coeffs.loc[coeffs['Feature']=='garage_area', 'Feature'] = 'Garage area'\n",
    "coeffs.loc[coeffs['Feature']=='fireplace_qu', 'Feature'] = 'Fireplace quality'\n",
    "coeffs.loc[coeffs['Feature']=='ms_subclass', 'Feature'] = '1-2 Story - 1945 & Newer'\n",
    "coeffs.loc[coeffs['Feature']=='foundation', 'Feature'] = 'Poured concrete foundation'\n",
    "coeffs.loc[coeffs['Feature']=='garage_cond', 'Feature'] = 'Garage condition'\n",
    "coeffs.loc[coeffs['Feature']=='screen_porch', 'Feature'] = 'Screen porch area in square feet'\n",
    "coeffs.loc[coeffs['Feature']=='bsmt_exposure', 'Feature'] = 'Good or average basement exposure'\n",
    "coeffs.loc[coeffs['Feature']=='year_remod/add', 'Feature'] = 'Year remodeled'\n",
    "coeffs.loc[coeffs['Feature']=='full_bath', 'Feature'] = 'Number of full bathrooms'\n",
    "coeffs.loc[coeffs['Feature']=='exter_cond', 'Feature'] = 'Exterior condition'\n",
    "coeffs.loc[coeffs['Feature']=='lot_area', 'Feature'] = 'Lot area'\n",
    "coeffs.loc[coeffs['Feature']=='totrms_abvgrd', 'Feature'] = 'Total rooms above grade level'\n",
    "coeffs.loc[coeffs['Feature']=='bsmtfin_type_1', 'Feature'] = 'Rating of basement finished area'\n",
    "coeffs.loc[coeffs['Feature']=='lot_shape', 'Feature'] = 'Lot shape'\n",
    "coeffs.loc[coeffs['Feature']=='fireplaces', 'Feature'] = 'Number of fireplaces'\n",
    "coeffs.loc[coeffs['Feature']=='enclosed_porch', 'Feature'] = 'Enclosed porch area in square feet'\n",
    "coeffs.loc[coeffs['Feature']=='bsmt_qual', 'Feature'] = 'Height of the basement'\n",
    "coeffs.loc[coeffs['Feature']=='wood_deck_sf', 'Feature'] = 'Wood deck area in square feet'"
   ]
  },
  {
   "cell_type": "markdown",
   "metadata": {},
   "source": [
    "The following plot presents the regression coefficients of the features in the model and the log of the sales price. Features such as the `overall quality` rating have a higher effect on the log of the sales price compared to other features such as the `lot area`."
   ]
  },
  {
   "cell_type": "code",
   "execution_count": 72,
   "metadata": {
    "ExecuteTime": {
     "end_time": "2022-05-13T04:33:23.956950Z",
     "start_time": "2022-05-13T04:33:23.611160Z"
    }
   },
   "outputs": [
    {
     "data": {
      "image/png": "[encoded data removed]",
      "text/plain": [
       "<Figure size 720x720 with 1 Axes>"
      ]
     },
     "metadata": {
      "needs_background": "light"
     },
     "output_type": "display_data"
    }
   ],
   "source": [
    "plt.figure(figsize=(10,10))\n",
    "plt.title('Regression Coefficients from OLS model estimating home prices in Ames, IA', size=15)\n",
    "plt.ylabel('Feature', size=15)\n",
    "plt.yticks(size=14)\n",
    "plt.xlabel('Regression Coefficient at 5% significance level', size=15)\n",
    "sns.barplot(x='Reg Coefficient', y='Feature', data=coeffs, orient='h', color='blue');"
   ]
  },
  {
   "cell_type": "markdown",
   "metadata": {},
   "source": [
    "Some of the features highlighted as having a statistically significant effect on the sales price are common to Zillow features displayed on their profiles. These features include:\n",
    "* Number of bathrooms\n",
    "* Year built\n",
    "* Year of renovation\n",
    "* Basement exposure to walkout or garden walls\n",
    "* Overall condition of the house\n",
    "* Number of fire places"
   ]
  },
  {
   "cell_type": "markdown",
   "metadata": {},
   "source": [
    "However, Zillow offers less or limited information on detailed qualitative evaluations of specific areas of the property. These include:\n",
    "* The rating (7-10) on overall material and finish of the house (`overall quality`)\n",
    "* Assessment of the fireplace quality (excellent, good, average, poor, fair)\n",
    "* Assessment of exterior condition\n",
    "* Assessment of basement quality based on the height of the basement\n",
    "\n",
    "If these qualitative data could be obtained and published while protecting home owners' privacy, they might provide a differentiating factor compared to competitors such as Zillow and RedFin. This information may be particularly valuable to real estate developers who may want to search in bulk for properties in poor condition that could be flipped or improved for a profit."
   ]
  },
  {
   "cell_type": "markdown",
   "metadata": {},
   "source": [
    "From these previous correlation and linear regression analyses, it is evident that some home features have a statistically significant effect on the sale price. The expectation for the machine learning model will be that the following features will predict the sales prices. The performance of those predictions will be evaluated by comparing the model's predictions with the predictions of a 'null' model or the model that would predict all unknown sales prices to be the average of the sales price from the training data set. In other words, a model without any additional information other than the sales price itself. Additional performance metrics used will be the `root mean squared error` and the coefficient of determination or `r-squared`. The root mean squared error will be measured on a similar scale as the predicted values and will provide an intuitive metric to evaluate performance.\n",
    "\n",
    "***Independent variables***:\n",
    "* `overall_qual`\n",
    "* `gr_liv_area`\n",
    "* `year_built`\n",
    "* `overall_cond`\n",
    "* `total_bsmt_sf`\n",
    "* `bsmt_full_bath`\n",
    "* `garage_area`\n",
    "* `fireplace_qu`\n",
    "* `ms_subclass`\n",
    "* `foundation`\n",
    "* `garage_cond`\n",
    "* `screen_porch`\n",
    "* `bsmt_exposure`\n",
    "* `year_remod/add`\n",
    "* `full_bath`\n",
    "* `exter_cond`\n",
    "* `lot_area`\n",
    "* `totrms_abvgrd`\n",
    "* `bsmtfin_type_1`\n",
    "* `lot_shape`\n",
    "* `fireplaces`\n",
    "* `enclosed_porch`\n",
    "* `bsmt_qual`\n",
    "* `wood_deck_sf`\n",
    "\n",
    "***Target variable***:\n",
    "* `saleprice`\n",
    "\n",
    "These features were selected based on having the highest correlation with the `saleprice` and the features with statistically significant coefficients from the linear regression model."
   ]
  },
  {
   "cell_type": "markdown",
   "metadata": {},
   "source": [
    "# Preprocessing and Modeling:\n",
    "\n",
    "Check for multicollinearity, scale the data and split into the training and validation sets."
   ]
  },
  {
   "cell_type": "markdown",
   "metadata": {},
   "source": [
    "Two pairs of features appear to have a high-correlation with each other. However, they are not perfect linear combinations of another. Therefore, they will be kept in the data set.\n",
    "\n",
    "* `totrms_abvgrd` and `gr_liv_area`\n",
    "* `fireplace_qu` and `fireplaces`"
   ]
  },
  {
   "cell_type": "code",
   "execution_count": 73,
   "metadata": {
    "ExecuteTime": {
     "end_time": "2022-05-13T04:33:23.988171Z",
     "start_time": "2022-05-13T04:33:23.960910Z"
    }
   },
   "outputs": [
    {
     "data": {
      "text/html": [
       "<div>\n",
       "<style scoped>\n",
       "    .dataframe tbody tr th:only-of-type {\n",
       "        vertical-align: middle;\n",
       "    }\n",
       "\n",
       "    .dataframe tbody tr th {\n",
       "        vertical-align: top;\n",
       "    }\n",
       "\n",
       "    .dataframe thead th {\n",
       "        text-align: right;\n",
       "    }\n",
       "</style>\n",
       "<table border=\"1\" class=\"dataframe\">\n",
       "  <thead>\n",
       "    <tr style=\"text-align: right;\">\n",
       "      <th></th>\n",
       "      <th>overall_qual</th>\n",
       "      <th>gr_liv_area</th>\n",
       "      <th>year_built</th>\n",
       "      <th>overall_cond</th>\n",
       "      <th>total_bsmt_sf</th>\n",
       "      <th>bsmt_full_bath</th>\n",
       "      <th>garage_area</th>\n",
       "      <th>fireplace_qu</th>\n",
       "      <th>ms_subclass</th>\n",
       "      <th>foundation</th>\n",
       "      <th>...</th>\n",
       "      <th>full_bath</th>\n",
       "      <th>exter_cond</th>\n",
       "      <th>lot_area</th>\n",
       "      <th>totrms_abvgrd</th>\n",
       "      <th>bsmtfin_type_1</th>\n",
       "      <th>lot_shape</th>\n",
       "      <th>fireplaces</th>\n",
       "      <th>enclosed_porch</th>\n",
       "      <th>bsmt_qual</th>\n",
       "      <th>wood_deck_sf</th>\n",
       "    </tr>\n",
       "  </thead>\n",
       "  <tbody>\n",
       "    <tr>\n",
       "      <th>overall_qual</th>\n",
       "      <td>1.000000</td>\n",
       "      <td>0.566929</td>\n",
       "      <td>0.603067</td>\n",
       "      <td>-0.082472</td>\n",
       "      <td>0.548444</td>\n",
       "      <td>0.175364</td>\n",
       "      <td>0.563554</td>\n",
       "      <td>0.455003</td>\n",
       "      <td>0.246363</td>\n",
       "      <td>0.572062</td>\n",
       "      <td>...</td>\n",
       "      <td>0.514963</td>\n",
       "      <td>0.196961</td>\n",
       "      <td>0.127715</td>\n",
       "      <td>0.382841</td>\n",
       "      <td>0.323963</td>\n",
       "      <td>0.256303</td>\n",
       "      <td>0.389128</td>\n",
       "      <td>-0.154384</td>\n",
       "      <td>0.303395</td>\n",
       "      <td>0.256561</td>\n",
       "    </tr>\n",
       "    <tr>\n",
       "      <th>gr_liv_area</th>\n",
       "      <td>0.566929</td>\n",
       "      <td>1.000000</td>\n",
       "      <td>0.259273</td>\n",
       "      <td>-0.110560</td>\n",
       "      <td>0.453190</td>\n",
       "      <td>0.064535</td>\n",
       "      <td>0.491225</td>\n",
       "      <td>0.483914</td>\n",
       "      <td>0.180066</td>\n",
       "      <td>0.331587</td>\n",
       "      <td>...</td>\n",
       "      <td>0.617151</td>\n",
       "      <td>0.065644</td>\n",
       "      <td>0.397072</td>\n",
       "      <td>0.814205</td>\n",
       "      <td>0.117449</td>\n",
       "      <td>0.203196</td>\n",
       "      <td>0.458411</td>\n",
       "      <td>-0.007412</td>\n",
       "      <td>0.109213</td>\n",
       "      <td>0.270510</td>\n",
       "    </tr>\n",
       "    <tr>\n",
       "      <th>year_built</th>\n",
       "      <td>0.603067</td>\n",
       "      <td>0.259273</td>\n",
       "      <td>1.000000</td>\n",
       "      <td>-0.370899</td>\n",
       "      <td>0.410766</td>\n",
       "      <td>0.215537</td>\n",
       "      <td>0.486997</td>\n",
       "      <td>0.238520</td>\n",
       "      <td>0.477611</td>\n",
       "      <td>0.666820</td>\n",
       "      <td>...</td>\n",
       "      <td>0.480542</td>\n",
       "      <td>0.207621</td>\n",
       "      <td>0.052268</td>\n",
       "      <td>0.137970</td>\n",
       "      <td>0.417387</td>\n",
       "      <td>0.282860</td>\n",
       "      <td>0.169862</td>\n",
       "      <td>-0.380210</td>\n",
       "      <td>0.261175</td>\n",
       "      <td>0.216497</td>\n",
       "    </tr>\n",
       "    <tr>\n",
       "      <th>overall_cond</th>\n",
       "      <td>-0.082472</td>\n",
       "      <td>-0.110560</td>\n",
       "      <td>-0.370899</td>\n",
       "      <td>1.000000</td>\n",
       "      <td>-0.158850</td>\n",
       "      <td>-0.039094</td>\n",
       "      <td>-0.137372</td>\n",
       "      <td>-0.053524</td>\n",
       "      <td>-0.113381</td>\n",
       "      <td>-0.282853</td>\n",
       "      <td>...</td>\n",
       "      <td>-0.219510</td>\n",
       "      <td>0.177784</td>\n",
       "      <td>-0.034918</td>\n",
       "      <td>-0.094355</td>\n",
       "      <td>-0.017965</td>\n",
       "      <td>-0.059877</td>\n",
       "      <td>-0.006797</td>\n",
       "      <td>0.108442</td>\n",
       "      <td>0.036709</td>\n",
       "      <td>0.012281</td>\n",
       "    </tr>\n",
       "    <tr>\n",
       "      <th>total_bsmt_sf</th>\n",
       "      <td>0.548444</td>\n",
       "      <td>0.453190</td>\n",
       "      <td>0.410766</td>\n",
       "      <td>-0.158850</td>\n",
       "      <td>1.000000</td>\n",
       "      <td>0.321427</td>\n",
       "      <td>0.488526</td>\n",
       "      <td>0.309694</td>\n",
       "      <td>0.317301</td>\n",
       "      <td>0.319262</td>\n",
       "      <td>...</td>\n",
       "      <td>0.324794</td>\n",
       "      <td>0.099235</td>\n",
       "      <td>0.326426</td>\n",
       "      <td>0.294794</td>\n",
       "      <td>0.291026</td>\n",
       "      <td>0.192082</td>\n",
       "      <td>0.331093</td>\n",
       "      <td>-0.087517</td>\n",
       "      <td>0.368465</td>\n",
       "      <td>0.223674</td>\n",
       "    </tr>\n",
       "  </tbody>\n",
       "</table>\n",
       "<p>5 rows × 24 columns</p>\n",
       "</div>"
      ],
      "text/plain": [
       "               overall_qual  gr_liv_area  year_built  overall_cond  \\\n",
       "overall_qual       1.000000     0.566929    0.603067     -0.082472   \n",
       "gr_liv_area        0.566929     1.000000    0.259273     -0.110560   \n",
       "year_built         0.603067     0.259273    1.000000     -0.370899   \n",
       "overall_cond      -0.082472    -0.110560   -0.370899      1.000000   \n",
       "total_bsmt_sf      0.548444     0.453190    0.410766     -0.158850   \n",
       "\n",
       "               total_bsmt_sf  bsmt_full_bath  garage_area  fireplace_qu  \\\n",
       "overall_qual        0.548444        0.175364     0.563554      0.455003   \n",
       "gr_liv_area         0.453190        0.064535     0.491225      0.483914   \n",
       "year_built          0.410766        0.215537     0.486997      0.238520   \n",
       "overall_cond       -0.158850       -0.039094    -0.137372     -0.053524   \n",
       "total_bsmt_sf       1.000000        0.321427     0.488526      0.309694   \n",
       "\n",
       "               ms_subclass  foundation  ...  full_bath  exter_cond  lot_area  \\\n",
       "overall_qual      0.246363    0.572062  ...   0.514963    0.196961  0.127715   \n",
       "gr_liv_area       0.180066    0.331587  ...   0.617151    0.065644  0.397072   \n",
       "year_built        0.477611    0.666820  ...   0.480542    0.207621  0.052268   \n",
       "overall_cond     -0.113381   -0.282853  ...  -0.219510    0.177784 -0.034918   \n",
       "total_bsmt_sf     0.317301    0.319262  ...   0.324794    0.099235  0.326426   \n",
       "\n",
       "               totrms_abvgrd  bsmtfin_type_1  lot_shape  fireplaces  \\\n",
       "overall_qual        0.382841        0.323963   0.256303    0.389128   \n",
       "gr_liv_area         0.814205        0.117449   0.203196    0.458411   \n",
       "year_built          0.137970        0.417387   0.282860    0.169862   \n",
       "overall_cond       -0.094355       -0.017965  -0.059877   -0.006797   \n",
       "total_bsmt_sf       0.294794        0.291026   0.192082    0.331093   \n",
       "\n",
       "               enclosed_porch  bsmt_qual  wood_deck_sf  \n",
       "overall_qual        -0.154384   0.303395      0.256561  \n",
       "gr_liv_area         -0.007412   0.109213      0.270510  \n",
       "year_built          -0.380210   0.261175      0.216497  \n",
       "overall_cond         0.108442   0.036709      0.012281  \n",
       "total_bsmt_sf       -0.087517   0.368465      0.223674  \n",
       "\n",
       "[5 rows x 24 columns]"
      ]
     },
     "execution_count": 73,
     "metadata": {},
     "output_type": "execute_result"
    }
   ],
   "source": [
    "train[feature_names].corr().head()"
   ]
  },
  {
   "cell_type": "markdown",
   "metadata": {},
   "source": [
    "### Standardized the data and calculate second degree polynomials."
   ]
  },
  {
   "cell_type": "code",
   "execution_count": 74,
   "metadata": {
    "ExecuteTime": {
     "end_time": "2022-05-13T04:33:23.998420Z",
     "start_time": "2022-05-13T04:33:23.992159Z"
    }
   },
   "outputs": [],
   "source": [
    "ss = StandardScaler()\n",
    "poly = PolynomialFeatures(include_bias = False, degree=2)"
   ]
  },
  {
   "cell_type": "code",
   "execution_count": 75,
   "metadata": {
    "ExecuteTime": {
     "end_time": "2022-05-13T04:33:24.010519Z",
     "start_time": "2022-05-13T04:33:24.001072Z"
    }
   },
   "outputs": [],
   "source": [
    "X = train[feature_names]\n",
    "y = train['saleprice']\n",
    "test_ids = test['id']\n",
    "test = test[feature_names]"
   ]
  },
  {
   "cell_type": "code",
   "execution_count": 76,
   "metadata": {
    "ExecuteTime": {
     "end_time": "2022-05-13T04:33:24.026318Z",
     "start_time": "2022-05-13T04:33:24.013184Z"
    }
   },
   "outputs": [
    {
     "data": {
      "text/plain": [
       "((2048, 24), (877, 24))"
      ]
     },
     "execution_count": 76,
     "metadata": {},
     "output_type": "execute_result"
    }
   ],
   "source": [
    "X.shape, test.shape"
   ]
  },
  {
   "cell_type": "code",
   "execution_count": 77,
   "metadata": {
    "ExecuteTime": {
     "end_time": "2022-05-13T04:33:24.045755Z",
     "start_time": "2022-05-13T04:33:24.029915Z"
    }
   },
   "outputs": [],
   "source": [
    "X = poly.fit_transform(X)\n",
    "test_with_polynomials = poly.transform(test)"
   ]
  },
  {
   "cell_type": "code",
   "execution_count": 78,
   "metadata": {
    "ExecuteTime": {
     "end_time": "2022-05-13T04:33:24.057222Z",
     "start_time": "2022-05-13T04:33:24.047786Z"
    }
   },
   "outputs": [],
   "source": [
    "X_train, X_test, y_train, y_test = train_test_split(X,y, test_size = 0.25, random_state = 42)"
   ]
  },
  {
   "cell_type": "code",
   "execution_count": 79,
   "metadata": {
    "ExecuteTime": {
     "end_time": "2022-05-13T04:33:24.067892Z",
     "start_time": "2022-05-13T04:33:24.059967Z"
    }
   },
   "outputs": [],
   "source": [
    "ss = StandardScaler()"
   ]
  },
  {
   "cell_type": "code",
   "execution_count": 80,
   "metadata": {
    "ExecuteTime": {
     "end_time": "2022-05-13T04:33:24.085218Z",
     "start_time": "2022-05-13T04:33:24.070993Z"
    }
   },
   "outputs": [],
   "source": [
    "Xs_train = ss.fit_transform(X_train)\n",
    "Xs_test = ss.transform(X_test)"
   ]
  },
  {
   "cell_type": "markdown",
   "metadata": {},
   "source": [
    "Before running the ordinary least squares, Ridge, and Lasso regression models, set up the null model for evaluation."
   ]
  },
  {
   "cell_type": "code",
   "execution_count": 81,
   "metadata": {
    "ExecuteTime": {
     "end_time": "2022-05-13T04:33:24.103910Z",
     "start_time": "2022-05-13T04:33:24.099913Z"
    }
   },
   "outputs": [],
   "source": [
    "y_train_null = [np.mean(y_train)] * len(y_train)\n",
    "y_test_null = [np.mean(y_train)] * len(y_test)"
   ]
  },
  {
   "cell_type": "markdown",
   "metadata": {},
   "source": [
    "# Model Evaluation:"
   ]
  },
  {
   "cell_type": "markdown",
   "metadata": {},
   "source": [
    "#### Calculate the root mean squared error on the training and testing set for the null model"
   ]
  },
  {
   "cell_type": "code",
   "execution_count": 82,
   "metadata": {
    "ExecuteTime": {
     "end_time": "2022-05-13T04:33:24.114464Z",
     "start_time": "2022-05-13T04:33:24.107387Z"
    }
   },
   "outputs": [
    {
     "data": {
      "text/plain": [
       "0.4201527772638589"
      ]
     },
     "execution_count": 82,
     "metadata": {},
     "output_type": "execute_result"
    }
   ],
   "source": [
    "metrics.mean_squared_error(y_train, y_train_null, squared=False)"
   ]
  },
  {
   "cell_type": "code",
   "execution_count": 83,
   "metadata": {
    "ExecuteTime": {
     "end_time": "2022-05-13T04:33:24.157195Z",
     "start_time": "2022-05-13T04:33:24.116996Z"
    },
    "scrolled": true
   },
   "outputs": [
    {
     "data": {
      "text/plain": [
       "0.38230419225149664"
      ]
     },
     "execution_count": 83,
     "metadata": {},
     "output_type": "execute_result"
    }
   ],
   "source": [
    "metrics.mean_squared_error(y_test, y_test_null, squared=False)"
   ]
  },
  {
   "cell_type": "markdown",
   "metadata": {},
   "source": [
    "#### Calculate the R-squared for the training and testing set for the null model"
   ]
  },
  {
   "cell_type": "code",
   "execution_count": 84,
   "metadata": {
    "ExecuteTime": {
     "end_time": "2022-05-13T04:33:24.166815Z",
     "start_time": "2022-05-13T04:33:24.159975Z"
    }
   },
   "outputs": [
    {
     "data": {
      "text/plain": [
       "0.0"
      ]
     },
     "execution_count": 84,
     "metadata": {},
     "output_type": "execute_result"
    }
   ],
   "source": [
    "metrics.r2_score(y_train, y_train_null)"
   ]
  },
  {
   "cell_type": "code",
   "execution_count": 85,
   "metadata": {
    "ExecuteTime": {
     "end_time": "2022-05-13T04:33:24.183017Z",
     "start_time": "2022-05-13T04:33:24.171504Z"
    }
   },
   "outputs": [
    {
     "data": {
      "text/plain": [
       "-0.0020354410003038392"
      ]
     },
     "execution_count": 85,
     "metadata": {},
     "output_type": "execute_result"
    }
   ],
   "source": [
    "metrics.r2_score(y_test, y_test_null)"
   ]
  },
  {
   "cell_type": "markdown",
   "metadata": {},
   "source": [
    "The average of the sale price from the training data set does not have any explanatory power in the training and testing data sets as the R-squared value is 0 and less than 0, respectively. The root mean square error in both is very close. Therefore, the null model has not added any value in the ability to predict unknown house prices."
   ]
  },
  {
   "cell_type": "markdown",
   "metadata": {},
   "source": [
    "#### Ordinary Least Squares regression"
   ]
  },
  {
   "cell_type": "code",
   "execution_count": 86,
   "metadata": {
    "ExecuteTime": {
     "end_time": "2022-05-13T04:33:24.190511Z",
     "start_time": "2022-05-13T04:33:24.185779Z"
    }
   },
   "outputs": [],
   "source": [
    "lr = LinearRegression()"
   ]
  },
  {
   "cell_type": "code",
   "execution_count": 87,
   "metadata": {
    "ExecuteTime": {
     "end_time": "2022-05-13T04:33:24.256435Z",
     "start_time": "2022-05-13T04:33:24.194185Z"
    }
   },
   "outputs": [
    {
     "data": {
      "text/plain": [
       "LinearRegression()"
      ]
     },
     "execution_count": 87,
     "metadata": {},
     "output_type": "execute_result"
    }
   ],
   "source": [
    "lr.fit(Xs_train, y_train)"
   ]
  },
  {
   "cell_type": "code",
   "execution_count": 88,
   "metadata": {
    "ExecuteTime": {
     "end_time": "2022-05-13T04:33:24.277443Z",
     "start_time": "2022-05-13T04:33:24.266618Z"
    }
   },
   "outputs": [],
   "source": [
    "y_pred = lr.predict(Xs_test)"
   ]
  },
  {
   "cell_type": "code",
   "execution_count": 89,
   "metadata": {
    "ExecuteTime": {
     "end_time": "2022-05-13T04:33:24.456396Z",
     "start_time": "2022-05-13T04:33:24.279550Z"
    }
   },
   "outputs": [
    {
     "data": {
      "image/png": "[encoded data removed]",
      "text/plain": [
       "<Figure size 432x288 with 1 Axes>"
      ]
     },
     "metadata": {
      "needs_background": "light"
     },
     "output_type": "display_data"
    }
   ],
   "source": [
    "plt.title('Log of sales price vs predicted log of sales price with OLS regression')\n",
    "plt.xlabel('Predicted log of sales price')\n",
    "plt.ylabel('Log of Sales price')\n",
    "sns.scatterplot(x=y_pred,y=y_test);"
   ]
  },
  {
   "cell_type": "code",
   "execution_count": 90,
   "metadata": {
    "ExecuteTime": {
     "end_time": "2022-05-13T04:33:24.466677Z",
     "start_time": "2022-05-13T04:33:24.458890Z"
    },
    "scrolled": true
   },
   "outputs": [
    {
     "data": {
      "text/plain": [
       "0.09903902433611943"
      ]
     },
     "execution_count": 90,
     "metadata": {},
     "output_type": "execute_result"
    }
   ],
   "source": [
    "metrics.mean_squared_error(y_train, lr.predict(Xs_train), squared=False)"
   ]
  },
  {
   "cell_type": "code",
   "execution_count": 91,
   "metadata": {
    "ExecuteTime": {
     "end_time": "2022-05-13T04:33:24.481571Z",
     "start_time": "2022-05-13T04:33:24.469088Z"
    }
   },
   "outputs": [
    {
     "data": {
      "text/plain": [
       "0.14422969069718783"
      ]
     },
     "execution_count": 91,
     "metadata": {},
     "output_type": "execute_result"
    }
   ],
   "source": [
    "metrics.mean_squared_error(y_test, lr.predict(Xs_test), squared=False)"
   ]
  },
  {
   "cell_type": "code",
   "execution_count": 92,
   "metadata": {
    "ExecuteTime": {
     "end_time": "2022-05-13T04:33:24.497757Z",
     "start_time": "2022-05-13T04:33:24.484627Z"
    }
   },
   "outputs": [
    {
     "data": {
      "text/plain": [
       "0.9444353952518871"
      ]
     },
     "execution_count": 92,
     "metadata": {},
     "output_type": "execute_result"
    }
   ],
   "source": [
    "lr.score(Xs_train, y_train)"
   ]
  },
  {
   "cell_type": "code",
   "execution_count": 93,
   "metadata": {
    "ExecuteTime": {
     "end_time": "2022-05-13T04:33:24.508344Z",
     "start_time": "2022-05-13T04:33:24.500525Z"
    }
   },
   "outputs": [
    {
     "data": {
      "text/plain": [
       "0.8573820118089213"
      ]
     },
     "execution_count": 93,
     "metadata": {},
     "output_type": "execute_result"
    }
   ],
   "source": [
    "lr.score(Xs_test, y_test)"
   ]
  },
  {
   "cell_type": "markdown",
   "metadata": {},
   "source": [
    "The root mean squared error results are significantly lower in both the training and testing data sets in the OLS model in comparison to the null model. The R-squared also indicates that around 94% fof the variation in the log of sales price is explained by the model in the training set and around 86% in the testing set. The model is less effective at predicting the log of sales price at values below 11.5 or more than 13."
   ]
  },
  {
   "cell_type": "markdown",
   "metadata": {},
   "source": [
    "#### Ridge regression\n",
    "\n",
    "Ridge regression along with Lasso regularization are regression techniques that correct for the impact of additional variables on the predictions from a model. Through a regularization hyperparameter,alpha, these techniques seek to minimize the impact of these coefficients to avoid overfitting. Inherently, as the impact of additional regression coefficients included to a model is diminished through these techniques, the model will diminish the importance of features that may not be useful in predicting the target variable. In ridge and lasso regression, we seek to minimize a loss function that is the mean squared error plus the sum of the squared coefficients times the penalty parameter. In Lasso regression, the penalty term is defined as the sum of the absolute value of the regression coefficients. A small value of alpha will have the effect of reducing the impact of the regression coefficients faster in comparison to ridge regression due to the smaller magnitude of the sum of the absolute values of the regression coefficients in comparison to the squared values in ridge regression."
   ]
  },
  {
   "cell_type": "markdown",
   "metadata": {},
   "source": [
    "#### The code below does the following:\n",
    "* Identifies an evenly spaced number of alphas based on the log scale between 0 and 5 for 100 values.\n",
    "* Instantiates the ridge regression model, using as the scoring metric the R-squared and a cross validation of 5 folds.\n",
    "* The model is fit using the scaled data and the best alpha is reported next.\n",
    "* The root mean squared error and the R-squared are calculated on the training and testing data set to evaluate the model's performance."
   ]
  },
  {
   "cell_type": "code",
   "execution_count": 94,
   "metadata": {
    "ExecuteTime": {
     "end_time": "2022-05-13T04:33:28.730730Z",
     "start_time": "2022-05-13T04:33:24.516142Z"
    }
   },
   "outputs": [
    {
     "data": {
      "text/plain": [
       "83.02175681319744"
      ]
     },
     "execution_count": 94,
     "metadata": {},
     "output_type": "execute_result"
    }
   ],
   "source": [
    "alpha = np.logspace(0,5,100)\n",
    "\n",
    "ridge_cv = RidgeCV(alphas=alpha, scoring='r2', cv=5)\n",
    "ridge_cv.fit(Xs_train, y_train)\n",
    "\n",
    "ridge_cv.alpha_"
   ]
  },
  {
   "cell_type": "code",
   "execution_count": 95,
   "metadata": {
    "ExecuteTime": {
     "end_time": "2022-05-13T04:33:28.741099Z",
     "start_time": "2022-05-13T04:33:28.733651Z"
    }
   },
   "outputs": [
    {
     "data": {
      "text/plain": [
       "0.9193704860429829"
      ]
     },
     "execution_count": 95,
     "metadata": {},
     "output_type": "execute_result"
    }
   ],
   "source": [
    "ridge_cv.score(Xs_train,y_train)"
   ]
  },
  {
   "cell_type": "code",
   "execution_count": 96,
   "metadata": {
    "ExecuteTime": {
     "end_time": "2022-05-13T04:33:28.764996Z",
     "start_time": "2022-05-13T04:33:28.754978Z"
    }
   },
   "outputs": [
    {
     "data": {
      "text/plain": [
       "0.8967712828520145"
      ]
     },
     "execution_count": 96,
     "metadata": {},
     "output_type": "execute_result"
    }
   ],
   "source": [
    "ridge_cv.score(Xs_test,y_test)"
   ]
  },
  {
   "cell_type": "code",
   "execution_count": 97,
   "metadata": {
    "ExecuteTime": {
     "end_time": "2022-05-13T04:33:28.781762Z",
     "start_time": "2022-05-13T04:33:28.771306Z"
    }
   },
   "outputs": [
    {
     "data": {
      "text/plain": [
       "0.11930379526011177"
      ]
     },
     "execution_count": 97,
     "metadata": {},
     "output_type": "execute_result"
    }
   ],
   "source": [
    "metrics.mean_squared_error(y_train, ridge_cv.predict(Xs_train), squared=False)"
   ]
  },
  {
   "cell_type": "code",
   "execution_count": 98,
   "metadata": {
    "ExecuteTime": {
     "end_time": "2022-05-13T04:33:28.802607Z",
     "start_time": "2022-05-13T04:33:28.790614Z"
    },
    "scrolled": true
   },
   "outputs": [
    {
     "data": {
      "text/plain": [
       "0.12270656091892854"
      ]
     },
     "execution_count": 98,
     "metadata": {},
     "output_type": "execute_result"
    }
   ],
   "source": [
    "metrics.mean_squared_error(y_test, ridge_cv.predict(Xs_test), squared=False)"
   ]
  },
  {
   "cell_type": "markdown",
   "metadata": {},
   "source": [
    "#### Lasso regression\n"
   ]
  },
  {
   "cell_type": "code",
   "execution_count": 99,
   "metadata": {
    "ExecuteTime": {
     "end_time": "2022-05-13T04:33:31.006099Z",
     "start_time": "2022-05-13T04:33:28.806667Z"
    }
   },
   "outputs": [
    {
     "data": {
      "text/plain": [
       "0.002009233002565048"
      ]
     },
     "execution_count": 99,
     "metadata": {},
     "output_type": "execute_result"
    }
   ],
   "source": [
    "lasso_alphas = np.logspace(-3,0,100)\n",
    "lasso_cv = LassoCV(alphas=lasso_alphas, cv=5, max_iter=50000)\n",
    "lasso_cv.fit(Xs_train,y_train)\n",
    "\n",
    "lasso_cv.alpha_"
   ]
  },
  {
   "cell_type": "code",
   "execution_count": 100,
   "metadata": {
    "ExecuteTime": {
     "end_time": "2022-05-13T04:33:31.022428Z",
     "start_time": "2022-05-13T04:33:31.008388Z"
    }
   },
   "outputs": [
    {
     "data": {
      "text/plain": [
       "0.9070161650708827"
      ]
     },
     "execution_count": 100,
     "metadata": {},
     "output_type": "execute_result"
    }
   ],
   "source": [
    "lasso_cv.score(Xs_train,y_train)"
   ]
  },
  {
   "cell_type": "code",
   "execution_count": 101,
   "metadata": {
    "ExecuteTime": {
     "end_time": "2022-05-13T04:33:31.044254Z",
     "start_time": "2022-05-13T04:33:31.032288Z"
    }
   },
   "outputs": [
    {
     "data": {
      "text/plain": [
       "0.8979922546268722"
      ]
     },
     "execution_count": 101,
     "metadata": {},
     "output_type": "execute_result"
    }
   ],
   "source": [
    "lasso_cv.score(Xs_test,y_test)"
   ]
  },
  {
   "cell_type": "code",
   "execution_count": 102,
   "metadata": {
    "ExecuteTime": {
     "end_time": "2022-05-13T04:33:31.067725Z",
     "start_time": "2022-05-13T04:33:31.050914Z"
    }
   },
   "outputs": [
    {
     "data": {
      "text/plain": [
       "0.12811824045452774"
      ]
     },
     "execution_count": 102,
     "metadata": {},
     "output_type": "execute_result"
    }
   ],
   "source": [
    "metrics.mean_squared_error(y_train, lasso_cv.predict(Xs_train), squared=False)"
   ]
  },
  {
   "cell_type": "code",
   "execution_count": 103,
   "metadata": {
    "ExecuteTime": {
     "end_time": "2022-05-13T04:33:31.089805Z",
     "start_time": "2022-05-13T04:33:31.070463Z"
    },
    "scrolled": true
   },
   "outputs": [
    {
     "data": {
      "text/plain": [
       "0.1219787261352133"
      ]
     },
     "execution_count": 103,
     "metadata": {},
     "output_type": "execute_result"
    }
   ],
   "source": [
    "metrics.mean_squared_error(y_test, lasso_cv.predict(Xs_test), squared=False)"
   ]
  },
  {
   "cell_type": "markdown",
   "metadata": {},
   "source": [
    "### <center> R-squared values by data set and regression model"
   ]
  },
  {
   "cell_type": "markdown",
   "metadata": {},
   "source": [
    "| R-squared\t| Null \t| OLS \t| Ridge \t| Lasso \t|\n",
    "|---\t|---\t|---\t|---\t|---\t|\n",
    "| Train \t| 0 \t| 0.944 \t| 0.919 \t| 0.907 \t|\n",
    "| Test \t| -0.002 \t| 0.857 \t| 0.897 \t| 0.898 \t|"
   ]
  },
  {
   "cell_type": "markdown",
   "metadata": {},
   "source": [
    "### <center> Mean-squared error values by data set and regression model"
   ]
  },
  {
   "cell_type": "markdown",
   "metadata": {},
   "source": [
    "| MSE | Null \t| OLS \t| Ridge \t| Lasso \t|\n",
    "|---\t|---\t|---\t|---\t|---\t|\n",
    "| Train \t| 0.42 \t| 0.099 \t| 0.119 \t| 0.128 \t|\n",
    "| Test \t| 0.382 \t| 0.144 \t| 0.122 \t| 0.121 \t|"
   ]
  },
  {
   "cell_type": "markdown",
   "metadata": {},
   "source": [
    "Overall, the lasso model with an alpha of `0.002` produced the highest performance with an R-squared of 89.8% in the testing data set and 90.7% in the training data set and comparibly similar root mean squared errors in both the testing and training data sets. The Lasso regression model is the best among all possible choices because it increased the R-squared and reduced the root mean squared error in the testing set the most. This means that this model has the most explanatory among all three considered, although there difference is not very large between the Lasso and Ridge regression models."
   ]
  },
  {
   "cell_type": "markdown",
   "metadata": {},
   "source": [
    "#### Produce Kaggle predictions."
   ]
  },
  {
   "cell_type": "code",
   "execution_count": 104,
   "metadata": {
    "ExecuteTime": {
     "end_time": "2022-05-13T04:33:31.108451Z",
     "start_time": "2022-05-13T04:33:31.098934Z"
    }
   },
   "outputs": [],
   "source": [
    "test_transformed = ss.transform(test_with_polynomials)\n",
    "y_pred = np.exp(lr.predict(test_transformed))"
   ]
  },
  {
   "cell_type": "code",
   "execution_count": 105,
   "metadata": {
    "ExecuteTime": {
     "end_time": "2022-05-13T04:33:31.135589Z",
     "start_time": "2022-05-13T04:33:31.117781Z"
    },
    "scrolled": true
   },
   "outputs": [],
   "source": [
    "id_val = pd.DataFrame(test_ids)\n",
    "id_val\n",
    "\n",
    "preds = pd.DataFrame(y_pred)\n",
    "preds\n",
    "\n",
    "kaggle_submission = id_val.join(preds)\n",
    "\n",
    "kaggle_submission.rename(columns={0: 'saleprice'}, inplace=True)\n",
    "\n",
    "## Generate a directory to output data.\n",
    "if not os.path.exists('./datasets/'):\n",
    "    os.mkdir('./datasets/')\n",
    "\n",
    "kaggle_submission.to_csv('./datasets/sub_reg.csv', index=False)"
   ]
  },
  {
   "cell_type": "markdown",
   "metadata": {},
   "source": [
    "# Conclusions and Recommendations:\n",
    "\n",
    "Through a multiple linear regression model, a machine learning algorithm was used to predict home prices using data from the city of Ames, Iowa. Over 80 features about the homes sold between 2006 and 2010 were considered as potential predictors of home sale prices. A competitor to Zillow and RedFin requested data analytics services to understand if any of those features predicted home sale prices and if any of those features are not currently being displayed by Zillow and other large competitors in the real estate online search industry. In addition, this company also set out to understand if it could predict home prices accurately in the event that additional data of home features became available in regions where competitors don't have a large presence in terms of the number of houses with actual or predicted prices.\n",
    "\n",
    "This analysis concluded the following features had statistically significant effect on home prices at the 0.05 significance level:\n",
    "* Year Built\n",
    "* Living area in square feet\n",
    "* Qualitative ratings on overall material and condition of the house\n",
    "* Qualitative ratings on fireplace and heating quality and condition\n",
    "* Size of the garage in square feet\n",
    "* Year when the house was last remodeled\n",
    "* Number of bathrooms in the basement\n",
    "* Number of fireplaces\n",
    "* Fireplace quality\n",
    "* Number of bathrooms\n",
    "* Number of bedrooms\n",
    "\n",
    "Zillow already displays some of these features on its online profiles. However, it does not have subject matter expert's feedback on home quality and conditions. For instance, Zillow only provides an indicator of the condition of the house but does not provide detailed information about assessor's ratings on material and finish for a house. Additional qualitative information such as whether a house has good or excellent fireplace quality and heating quality and condition as well as the materials involved in the construction of the house, such as in its foundation, could be distinguishing pieces of information that the client could provide to home searchers or investors who would like to know more detail about their prospective homes. A potential niche market of clients for these data are real estate investors interested in finding properties in less than optimal condition to transform them into profitable properties.\n",
    "\n",
    "A machine learning algorithm based on a lasso regression model that explained around 90% of the variance in the natural log of the sales prices of unknown homes. On average, the actual and predicted price followed one another, although at both the low and high ends of the distribution of sales price, the model performed less optimally. More research is needed to further refine this model and increase its performance on unseen data. As a next step the client will continue refining its predictive model with the goal of explaining 95%-99% of the variation in the sale price."
   ]
  }
 ],
 "metadata": {
  "kernelspec": {
   "display_name": "Python 3",
   "language": "python",
   "name": "python3"
  },
  "language_info": {
   "codemirror_mode": {
    "name": "ipython",
    "version": 3
   },
   "file_extension": ".py",
   "mimetype": "text/x-python",
   "name": "python",
   "nbconvert_exporter": "python",
   "pygments_lexer": "ipython3",
   "version": "3.7.4"
  }
 },
 "nbformat": 4,
 "nbformat_minor": 2
}
